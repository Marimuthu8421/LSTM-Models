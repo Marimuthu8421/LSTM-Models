{
  "nbformat": 4,
  "nbformat_minor": 0,
  "metadata": {
    "colab": {
      "name": "Final_Simple_LSTM_Covid19_India.ipynb",
      "provenance": [],
      "collapsed_sections": []
    },
    "kernelspec": {
      "name": "python3",
      "display_name": "Python 3"
    }
  },
  "cells": [
    {
      "cell_type": "markdown",
      "source": [
        "## Step 0: Pre-Requirements - Import Modules "
      ],
      "metadata": {
        "id": "c9gP1m5scOOZ"
      }
    },
    {
      "cell_type": "code",
      "metadata": {
        "colab": {
          "base_uri": "https://localhost:8080/"
        },
        "id": "Nr_UaZQrIeJ7",
        "outputId": "e3cdbd45-36a0-4b47-ae30-3a8ed93ff6c6"
      },
      "source": [
        "import numpy as np\n",
        "import pandas as pd\n",
        "import matplotlib.pyplot as plt\n",
        "%matplotlib\n",
        "from statsmodels.tools.eval_measures import rmse \n",
        "from sklearn.preprocessing import MinMaxScaler\n",
        "import keras\n",
        "import tensorflow as tf\n",
        "from keras.preprocessing.sequence import TimeseriesGenerator\n",
        "from keras.models import Sequential\n",
        "from keras.layers import Dense\n",
        "from keras.layers import LSTM\n",
        "from keras.layers import Dropout\n",
        "import warnings \n",
        "warnings.filterwarnings(\"ignore\")"
      ],
      "execution_count": null,
      "outputs": [
        {
          "output_type": "stream",
          "name": "stdout",
          "text": [
            "Using matplotlib backend: agg\n"
          ]
        },
        {
          "output_type": "stream",
          "name": "stderr",
          "text": [
            "/usr/local/lib/python3.7/dist-packages/statsmodels/tools/_testing.py:19: FutureWarning: pandas.util.testing is deprecated. Use the functions in the public API at pandas.testing instead.\n",
            "  import pandas.util.testing as tm\n"
          ]
        }
      ]
    },
    {
      "cell_type": "markdown",
      "source": [
        "## Step 1 : Import data set and draw ACF / PACF plot then choose time lag"
      ],
      "metadata": {
        "id": "3k5If4c3cWel"
      }
    },
    {
      "cell_type": "markdown",
      "source": [
        "Download the data from https://github.com/Marimuthu8421/LSTM-Models/tree/main/data/India and store it in your local file. Run the below code and click 'Choose Files' then browse your data (.csv file).   "
      ],
      "metadata": {
        "id": "lvWYRavkca3L"
      }
    },
    {
      "cell_type": "code",
      "metadata": {
        "id": "OmRxHc81IkFl"
      },
      "source": [
        "from google.colab import files\n",
        "uploaded= files.upload()"
      ],
      "execution_count": null,
      "outputs": []
    },
    {
      "cell_type": "markdown",
      "source": [
        "Import the uploaded data as name 'df' using the function pd.read_csv(). If you are using other data then please change 'UK covid19 train_data.csv' as data file name."
      ],
      "metadata": {
        "id": "lvraXNoM2bRv"
      }
    },
    {
      "cell_type": "code",
      "metadata": {
        "id": "Leh_3zW8IoO1"
      },
      "source": [
        "import pandas as pd\n",
        "import io\n",
        "df = pd.read_csv(io.BytesIO(uploaded['India -COVID-19 data_train.csv']))\n",
        "df.head()"
      ],
      "execution_count": null,
      "outputs": []
    },
    {
      "cell_type": "code",
      "metadata": {
        "colab": {
          "base_uri": "https://localhost:8080/",
          "height": 238
        },
        "id": "q2TpmFPRI6R_",
        "outputId": "7170c4f1-6adf-4131-edbc-82068570de5c"
      },
      "source": [
        "# Month  is already in index of df otherwise change it usingthe following code\n",
        "# change the Month column as Index\n",
        "\n",
        "df1=df\n",
        "df1.Date=pd.to_datetime(df.Date)\n",
        "df1=df1.set_index(\"Date\")\n",
        "df1.head()"
      ],
      "execution_count": null,
      "outputs": [
        {
          "output_type": "execute_result",
          "data": {
            "text/html": [
              "\n",
              "  <div id=\"df-1cf990c3-0da2-48ce-b127-faec902a81a9\">\n",
              "    <div class=\"colab-df-container\">\n",
              "      <div>\n",
              "<style scoped>\n",
              "    .dataframe tbody tr th:only-of-type {\n",
              "        vertical-align: middle;\n",
              "    }\n",
              "\n",
              "    .dataframe tbody tr th {\n",
              "        vertical-align: top;\n",
              "    }\n",
              "\n",
              "    .dataframe thead th {\n",
              "        text-align: right;\n",
              "    }\n",
              "</style>\n",
              "<table border=\"1\" class=\"dataframe\">\n",
              "  <thead>\n",
              "    <tr style=\"text-align: right;\">\n",
              "      <th></th>\n",
              "      <th>Confirmed</th>\n",
              "      <th>Total Confirmed</th>\n",
              "    </tr>\n",
              "    <tr>\n",
              "      <th>Date</th>\n",
              "      <th></th>\n",
              "      <th></th>\n",
              "    </tr>\n",
              "  </thead>\n",
              "  <tbody>\n",
              "    <tr>\n",
              "      <th>2021-12-01</th>\n",
              "      <td>9875</td>\n",
              "      <td>34606232</td>\n",
              "    </tr>\n",
              "    <tr>\n",
              "      <th>2021-12-02</th>\n",
              "      <td>9191</td>\n",
              "      <td>34615423</td>\n",
              "    </tr>\n",
              "    <tr>\n",
              "      <th>2021-12-03</th>\n",
              "      <td>9128</td>\n",
              "      <td>34624551</td>\n",
              "    </tr>\n",
              "    <tr>\n",
              "      <th>2021-12-04</th>\n",
              "      <td>8912</td>\n",
              "      <td>34633463</td>\n",
              "    </tr>\n",
              "    <tr>\n",
              "      <th>2021-12-05</th>\n",
              "      <td>8413</td>\n",
              "      <td>34641876</td>\n",
              "    </tr>\n",
              "  </tbody>\n",
              "</table>\n",
              "</div>\n",
              "      <button class=\"colab-df-convert\" onclick=\"convertToInteractive('df-1cf990c3-0da2-48ce-b127-faec902a81a9')\"\n",
              "              title=\"Convert this dataframe to an interactive table.\"\n",
              "              style=\"display:none;\">\n",
              "        \n",
              "  <svg xmlns=\"http://www.w3.org/2000/svg\" height=\"24px\"viewBox=\"0 0 24 24\"\n",
              "       width=\"24px\">\n",
              "    <path d=\"M0 0h24v24H0V0z\" fill=\"none\"/>\n",
              "    <path d=\"M18.56 5.44l.94 2.06.94-2.06 2.06-.94-2.06-.94-.94-2.06-.94 2.06-2.06.94zm-11 1L8.5 8.5l.94-2.06 2.06-.94-2.06-.94L8.5 2.5l-.94 2.06-2.06.94zm10 10l.94 2.06.94-2.06 2.06-.94-2.06-.94-.94-2.06-.94 2.06-2.06.94z\"/><path d=\"M17.41 7.96l-1.37-1.37c-.4-.4-.92-.59-1.43-.59-.52 0-1.04.2-1.43.59L10.3 9.45l-7.72 7.72c-.78.78-.78 2.05 0 2.83L4 21.41c.39.39.9.59 1.41.59.51 0 1.02-.2 1.41-.59l7.78-7.78 2.81-2.81c.8-.78.8-2.07 0-2.86zM5.41 20L4 18.59l7.72-7.72 1.47 1.35L5.41 20z\"/>\n",
              "  </svg>\n",
              "      </button>\n",
              "      \n",
              "  <style>\n",
              "    .colab-df-container {\n",
              "      display:flex;\n",
              "      flex-wrap:wrap;\n",
              "      gap: 12px;\n",
              "    }\n",
              "\n",
              "    .colab-df-convert {\n",
              "      background-color: #E8F0FE;\n",
              "      border: none;\n",
              "      border-radius: 50%;\n",
              "      cursor: pointer;\n",
              "      display: none;\n",
              "      fill: #1967D2;\n",
              "      height: 32px;\n",
              "      padding: 0 0 0 0;\n",
              "      width: 32px;\n",
              "    }\n",
              "\n",
              "    .colab-df-convert:hover {\n",
              "      background-color: #E2EBFA;\n",
              "      box-shadow: 0px 1px 2px rgba(60, 64, 67, 0.3), 0px 1px 3px 1px rgba(60, 64, 67, 0.15);\n",
              "      fill: #174EA6;\n",
              "    }\n",
              "\n",
              "    [theme=dark] .colab-df-convert {\n",
              "      background-color: #3B4455;\n",
              "      fill: #D2E3FC;\n",
              "    }\n",
              "\n",
              "    [theme=dark] .colab-df-convert:hover {\n",
              "      background-color: #434B5C;\n",
              "      box-shadow: 0px 1px 3px 1px rgba(0, 0, 0, 0.15);\n",
              "      filter: drop-shadow(0px 1px 2px rgba(0, 0, 0, 0.3));\n",
              "      fill: #FFFFFF;\n",
              "    }\n",
              "  </style>\n",
              "\n",
              "      <script>\n",
              "        const buttonEl =\n",
              "          document.querySelector('#df-1cf990c3-0da2-48ce-b127-faec902a81a9 button.colab-df-convert');\n",
              "        buttonEl.style.display =\n",
              "          google.colab.kernel.accessAllowed ? 'block' : 'none';\n",
              "\n",
              "        async function convertToInteractive(key) {\n",
              "          const element = document.querySelector('#df-1cf990c3-0da2-48ce-b127-faec902a81a9');\n",
              "          const dataTable =\n",
              "            await google.colab.kernel.invokeFunction('convertToInteractive',\n",
              "                                                     [key], {});\n",
              "          if (!dataTable) return;\n",
              "\n",
              "          const docLinkHtml = 'Like what you see? Visit the ' +\n",
              "            '<a target=\"_blank\" href=https://colab.research.google.com/notebooks/data_table.ipynb>data table notebook</a>'\n",
              "            + ' to learn more about interactive tables.';\n",
              "          element.innerHTML = '';\n",
              "          dataTable['output_type'] = 'display_data';\n",
              "          await google.colab.output.renderOutput(dataTable, element);\n",
              "          const docLink = document.createElement('div');\n",
              "          docLink.innerHTML = docLinkHtml;\n",
              "          element.appendChild(docLink);\n",
              "        }\n",
              "      </script>\n",
              "    </div>\n",
              "  </div>\n",
              "  "
            ],
            "text/plain": [
              "            Confirmed  Total Confirmed\n",
              "Date                                  \n",
              "2021-12-01       9875         34606232\n",
              "2021-12-02       9191         34615423\n",
              "2021-12-03       9128         34624551\n",
              "2021-12-04       8912         34633463\n",
              "2021-12-05       8413         34641876"
            ]
          },
          "metadata": {},
          "execution_count": 4
        }
      ]
    },
    {
      "cell_type": "markdown",
      "source": [
        "Plot line graph for Daily cases using the code given below"
      ],
      "metadata": {
        "id": "YQuT3LBSeTFY"
      }
    },
    {
      "cell_type": "code",
      "source": [
        "import matplotlib.pyplot as plt\n",
        "\n",
        "fig, ax = plt.subplots(figsize=(9, 7))\n",
        "ax.plot(df1.index.values, df1['Confirmed'])\n",
        "ax.set(xlabel=\"Date\",\n",
        "       ylabel=\"Cofirmed cases per day\",\n",
        "       title=\"Covid19 Cases\")\n",
        "\n",
        "plt.show()"
      ],
      "metadata": {
        "colab": {
          "base_uri": "https://localhost:8080/",
          "height": 458
        },
        "id": "F8KWjMp-r4SU",
        "outputId": "dab96cc0-febd-411b-d8d0-5dbc2612217d"
      },
      "execution_count": null,
      "outputs": [
        {
          "output_type": "display_data",
          "data": {
            "image/png": "[encoded data removed]",
            "text/plain": [
              "<Figure size 648x504 with 1 Axes>"
            ]
          },
          "metadata": {
            "needs_background": "light"
          }
        }
      ]
    },
    {
      "cell_type": "markdown",
      "source": [
        "Draw ACF / PACF plot using the function accf() / pacf(). Choose the significant lag as the optimal time step which can be used for data pre-processing."
      ],
      "metadata": {
        "id": "wO3AzVAjemgr"
      }
    },
    {
      "cell_type": "code",
      "source": [
        "## Partial Auto correlation Plot\n",
        "from statsmodels.graphics.tsaplots import acf, pacf, plot_pacf, plot_acf\n",
        "from matplotlib import pyplot\n",
        "\n",
        "import numpy as np\n",
        "dat=np.array(df1['Confirmed'])\n",
        "\n",
        "plot_acf(dat)\n",
        "plot_pacf(dat)\n",
        "pyplot.show()"
      ],
      "metadata": {
        "colab": {
          "base_uri": "https://localhost:8080/",
          "height": 545
        },
        "id": "rjJpIJdmvbil",
        "outputId": "f75cb4f9-e199-416a-9eeb-48e2adbb7850"
      },
      "execution_count": null,
      "outputs": [
        {
          "output_type": "display_data",
          "data": {
            "image/png": "[encoded data removed]",
            "text/plain": [
              "<Figure size 432x288 with 1 Axes>"
            ]
          },
          "metadata": {
            "needs_background": "light"
          }
        },
        {
          "output_type": "display_data",
          "data": {
            "image/png": "[encoded data removed]",
            "text/plain": [
              "<Figure size 432x288 with 1 Axes>"
            ]
          },
          "metadata": {
            "needs_background": "light"
          }
        }
      ]
    },
    {
      "cell_type": "markdown",
      "source": [
        "## step2: Data pre-processing"
      ],
      "metadata": {
        "id": "zMTph8xtep4g"
      }
    },
    {
      "cell_type": "markdown",
      "source": [
        "We can divide the sequence into input (X) and output (y).\n",
        "Let {Xi, i=1, 2, 3, …, n} be the daily incident cases. Suppose, lag is three, then the fourth day count depends on previous 3 days (third, second and first) and fifth day count depends on fourth, third, and second day counts, and so on. Therefore, the data should be organized as follows:\n",
        "\n",
        "![image.png](data:image/png;base64,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)"
      ],
      "metadata": {
        "id": "JegCgcIReqlt"
      }
    },
    {
      "cell_type": "markdown",
      "source": [
        "Define the function **prepare_data()** which convert the time series data into X and y."
      ],
      "metadata": {
        "id": "uIzIydFaexeC"
      }
    },
    {
      "cell_type": "code",
      "metadata": {
        "id": "oGI9z2kPJJx4"
      },
      "source": [
        "# preparing independent and dependent features\n",
        "def prepare_data(timeseries_data, n_features):\n",
        "\tX, y =[],[]\n",
        "\tfor i in range(len(timeseries_data)):\n",
        "\t\t# find the end of this pattern\n",
        "\t\tend_ix = i + n_features\n",
        "\t\t# check if we are beyond the sequence\n",
        "\t\tif end_ix > len(timeseries_data)-1:\n",
        "\t\t\tbreak\n",
        "\t\t# gather input and output parts of the pattern\n",
        "\t\tseq_x, seq_y = timeseries_data[i:end_ix], timeseries_data[end_ix]\n",
        "\t\tX.append(seq_x)\n",
        "\t\ty.append(seq_y)\n",
        "\treturn np.array(X), np.array(y)"
      ],
      "execution_count": null,
      "outputs": []
    },
    {
      "cell_type": "code",
      "metadata": {
        "id": "rDjGZujiJSqk"
      },
      "source": [
        "n_steps = 6\n",
        "\n",
        "# split into samples\n",
        "X, y = prepare_data(df1['Confirmed'], n_steps)\n",
        "print(X.shape)"
      ],
      "execution_count": null,
      "outputs": []
    },
    {
      "cell_type": "code",
      "metadata": {
        "id": "FDddWhM-Jum4",
        "colab": {
          "base_uri": "https://localhost:8080/"
        },
        "outputId": "a986cc56-e2c6-49e8-8d00-3bb9bf7d70bb"
      },
      "source": [
        "# Summarize the data\n",
        "\n",
        "for i in range(len(X)):\n",
        "  print(X[i], y[i])"
      ],
      "execution_count": null,
      "outputs": [
        {
          "output_type": "stream",
          "name": "stdout",
          "text": [
            "[9875 9191 9128 8912 8413 6648] 8590\n",
            "[9191 9128 8912 8413 6648 8590] 9303\n",
            "[9128 8912 8413 6648 8590 9303] 8614\n",
            "[8912 8413 6648 8590 9303 8614] 7971\n",
            "[8413 6648 8590 9303 8614 7971] 7749\n",
            "[6648 8590 9303 8614 7971 7749] 7545\n",
            "[8590 9303 8614 7971 7749 7545] 5547\n",
            "[9303 8614 7971 7749 7545 5547] 7114\n",
            "[8614 7971 7749 7545 5547 7114] 7996\n",
            "[7971 7749 7545 5547 7114 7996] 7403\n",
            "[7749 7545 5547 7114 7996 7403] 7158\n",
            "[7545 5547 7114 7996 7403 7158] 7079\n",
            "[5547 7114 7996 7403 7158 7079] 6650\n",
            "[7114 7996 7403 7158 7079 6650] 5105\n",
            "[7996 7403 7158 7079 6650 5105] 6378\n",
            "[7403 7158 7079 6650 5105 6378] 7470\n",
            "[7158 7079 6650 5105 6378 7470] 6767\n",
            "[7079 6650 5105 6378 7470 6767] 7116\n",
            "[6650 5105 6378 7470 6767 7116] 7161\n",
            "[5105 6378 7470 6767 7116 7161] 6538\n",
            "[6378 7470 6767 7116 7161 6538] 6342\n",
            "[7470 6767 7116 7161 6538 6342] 9236\n",
            "[6767 7116 7161 6538 6342 9236] 13167\n",
            "[ 7116  7161  6538  6342  9236 13167] 16727\n",
            "[ 7161  6538  6342  9236 13167 16727] 22775\n",
            "[ 6538  6342  9236 13167 16727 22775] 27878\n",
            "[ 6342  9236 13167 16727 22775 27878] 33716\n",
            "[ 9236 13167 16727 22775 27878 33716] 37448\n",
            "[13167 16727 22775 27878 33716 37448] 58563\n",
            "[16727 22775 27878 33716 37448 58563] 91583\n",
            "[22775 27878 33716 37448 58563 91583] 117879\n",
            "[ 27878  33716  37448  58563  91583 117879] 142645\n",
            "[ 33716  37448  58563  91583 117879 142645] 160620\n",
            "[ 37448  58563  91583 117879 142645 160620] 181263\n",
            "[ 58563  91583 117879 142645 160620 181263] 169376\n",
            "[ 91583 117879 142645 160620 181263 169376] 197128\n",
            "[117879 142645 160620 181263 169376 197128] 248751\n",
            "[142645 160620 181263 169376 197128 248751] 251660\n",
            "[160620 181263 169376 197128 248751 251660] 269767\n",
            "[181263 169376 197128 248751 251660 269767] 267857\n",
            "[169376 197128 248751 251660 269767 267857] 258175\n",
            "[197128 248751 251660 269767 267857 258175] 237696\n",
            "[248751 251660 269767 267857 258175 237696] 283723\n",
            "[251660 269767 267857 258175 237696 283723] 316848\n",
            "[269767 267857 258175 237696 283723 316848] 347041\n",
            "[267857 258175 237696 283723 316848 347041] 336876\n",
            "[258175 237696 283723 316848 347041 336876] 333309\n",
            "[237696 283723 316848 347041 336876 333309] 305865\n",
            "[283723 316848 347041 336876 333309 305865] 252957\n",
            "[316848 347041 336876 333309 305865 252957] 288113\n",
            "[347041 336876 333309 305865 252957 288113] 285228\n",
            "[336876 333309 305865 252957 288113 285228] 249973\n",
            "[333309 305865 252957 288113 285228 249973] 235369\n",
            "[305865 252957 288113 285228 249973 235369] 235077\n",
            "[252957 288113 285228 249973 235369 235077] 209436\n",
            "[288113 285228 249973 235369 235077 209436] 165558\n",
            "[285228 249973 235369 235077 209436 165558] 161989\n",
            "[249973 235369 235077 209436 165558 161989] 173082\n",
            "[235369 235077 209436 165558 161989 173082] 148073\n",
            "[235077 209436 165558 161989 173082 148073] 128166\n",
            "[209436 165558 161989 173082 148073 128166] 107048\n",
            "[165558 161989 173082 148073 128166 107048] 84391\n",
            "[161989 173082 148073 128166 107048  84391] 66063\n",
            "[173082 148073 128166 107048  84391  66063] 71274\n",
            "[148073 128166 107048  84391  66063  71274] 66924\n",
            "[128166 107048  84391  66063  71274  66924] 58350\n"
          ]
        }
      ]
    },
    {
      "cell_type": "markdown",
      "source": [
        "## Step 3: Reorganize the data as in the format of input to the model"
      ],
      "metadata": {
        "id": "saMXPxVpf5NP"
      }
    },
    {
      "cell_type": "markdown",
      "source": [
        "The input data X has the shape [samples, timesteps] and it reshaped before feed into model. The input shape of the Simple LSTM model is [samples, timesteps, features] where feature is always one for univariate time series analysis."
      ],
      "metadata": {
        "id": "JE7vJv3Gf-Gv"
      }
    },
    {
      "cell_type": "code",
      "metadata": {
        "id": "mx0bIekuJ_vu",
        "colab": {
          "base_uri": "https://localhost:8080/"
        },
        "outputId": "4276fa4a-d87b-4d61-cbe0-7f23d03b792d"
      },
      "source": [
        "# reshape from [samples, timesteps] into [samples, timesteps, features]\n",
        "n_features = 1\n",
        "X = X.reshape((X.shape[0], X.shape[1], n_features))\n",
        "X.shape"
      ],
      "execution_count": null,
      "outputs": [
        {
          "output_type": "execute_result",
          "data": {
            "text/plain": [
              "(66, 6, 1)"
            ]
          },
          "metadata": {},
          "execution_count": 45
        }
      ]
    },
    {
      "cell_type": "markdown",
      "source": [
        "## Step 4: Model Buiilding\n",
        "\n",
        "Sherstinsky et.al (year) discussed the methodology of the Vanilla LSTM model. This is the simple LSTM configuration model compare to other models with one hidden LSTM layer and output layer. We have developed our own model with one LSTM layer followed by eight dense layers. However, the dense layers can be adjusted based on the model perfomance."
      ],
      "metadata": {
        "id": "FaClZdnqgHPb"
      }
    },
    {
      "cell_type": "code",
      "metadata": {
        "id": "xgB95A7AKMEq"
      },
      "source": [
        "# define model\n",
        "model = Sequential()\n",
        "model.add(LSTM(1000, activation='relu', input_shape=(n_steps, n_features)))\n",
        "\n",
        "model.add(Dense(5000, activation='relu',kernel_initializer='he_uniform',kernel_regularizer =keras.regularizers.l2( l=0.01)))\n",
        "model.add(Dense(3000, activation='relu',kernel_initializer='he_uniform',kernel_regularizer =keras.regularizers.l2( l=0.01)))\n",
        "model.add(Dense(2000, activation='relu',kernel_initializer='he_uniform',kernel_regularizer =keras.regularizers.l2( l=0.01)))\n",
        "model.add(Dense(1000, activation='relu',kernel_initializer='he_uniform',kernel_regularizer =keras.regularizers.l2( l=0.01)))\n",
        "model.add(Dense(500, activation='relu',kernel_initializer='he_uniform',kernel_regularizer =keras.regularizers.l2( l=0.01)))\n",
        "model.add(Dense(300, activation='relu',kernel_initializer='he_uniform',kernel_regularizer =keras.regularizers.l2( l=0.01)))\n",
        "model.add(Dense(200, activation='relu',kernel_initializer='he_uniform',kernel_regularizer =keras.regularizers.l2( l=0.01)))\n",
        "model.add(Dense(100, activation='relu',kernel_initializer='he_uniform',kernel_regularizer =keras.regularizers.l2( l=0.01)))\n",
        "model.add(Dense(1))"
      ],
      "execution_count": null,
      "outputs": []
    },
    {
      "cell_type": "code",
      "source": [
        "# Comppile the model\n",
        "model.compile(optimizer='adam', loss='mse')\n",
        "\n",
        "model.summary()"
      ],
      "metadata": {
        "colab": {
          "base_uri": "https://localhost:8080/"
        },
        "id": "ozPJ3URMse0D",
        "outputId": "77a0ad11-76c3-4be2-ae04-2d16bc092e4c"
      },
      "execution_count": null,
      "outputs": [
        {
          "output_type": "stream",
          "name": "stdout",
          "text": [
            "Model: \"sequential_5\"\n",
            "_________________________________________________________________\n",
            " Layer (type)                Output Shape              Param #   \n",
            "=================================================================\n",
            " lstm_5 (LSTM)               (None, 1000)              4008000   \n",
            "                                                                 \n",
            " dense_30 (Dense)            (None, 5000)              5005000   \n",
            "                                                                 \n",
            " dense_31 (Dense)            (None, 3000)              15003000  \n",
            "                                                                 \n",
            " dense_32 (Dense)            (None, 2000)              6002000   \n",
            "                                                                 \n",
            " dense_33 (Dense)            (None, 1000)              2001000   \n",
            "                                                                 \n",
            " dense_34 (Dense)            (None, 500)               500500    \n",
            "                                                                 \n",
            " dense_35 (Dense)            (None, 300)               150300    \n",
            "                                                                 \n",
            " dense_36 (Dense)            (None, 200)               60200     \n",
            "                                                                 \n",
            " dense_37 (Dense)            (None, 100)               20100     \n",
            "                                                                 \n",
            " dense_38 (Dense)            (None, 1)                 101       \n",
            "                                                                 \n",
            "=================================================================\n",
            "Total params: 32,750,201\n",
            "Trainable params: 32,750,201\n",
            "Non-trainable params: 0\n",
            "_________________________________________________________________\n"
          ]
        }
      ]
    },
    {
      "cell_type": "markdown",
      "source": [
        "**Call backs**\n",
        "\n",
        "reuce lr (Learning Rate)-if no  improvement seeing for the patience the learning rate is reuce.\n",
        "\n",
        "factor - by which the learning eate will be reduce.\n",
        "\n",
        "patience - # of epochs with no improvement after that the learning rate will reduce\n",
        "\n",
        "verbose - contain binary 0 quit 1 update message.\n",
        "\n",
        "mode - auto min max, \n",
        "    **min** - LR will reduce when quantity \n",
        "monitor has stop decresing;\n",
        "    **max** -  LR will reduce when quantity monitor has stop incresing;\n",
        "    **auto** - the direction is automatically infere from the nameof monitor. "
      ],
      "metadata": {
        "id": "cmnVkGXagK_8"
      }
    },
    {
      "cell_type": "code",
      "source": [
        "# Call backs\n",
        "# reuce lr (Learning Rate)-if no  improvement seeing for the patience the learning rate is reuce\n",
        "# factor - by which the learning eate will be reduce\n",
        "# patience - # of epochs with no improvement after that the learning rate will reduce\n",
        "# verbose - contain binary 0 quit 1 update msg\n",
        "# mode - auto min max, min - LR will reduce when quantity monitor has stop decresing\n",
        "#         max -  LR will reduce when quantity monitor has stop incresing\n",
        "#         auto - the direction is automatically infere from the nameof monitor\n",
        "# Early stopping  \n",
        "\n",
        "from keras.callbacks import ModelCheckpoint\n",
        "from keras.callbacks import ReduceLROnPlateau\n",
        "from keras.callbacks import EarlyStopping\n",
        "\n",
        "checkpoint=ModelCheckpoint(filepath='best_weights.hdf11', \n",
        "                           save_best_only=True, save_weights_only=True)\n",
        "lr_reduce=ReduceLROnPlateau(monitor='loss',factor=0.3,\n",
        "                            patience=3,  verbose=2, mode='max')\n",
        "early_stop=EarlyStopping(monitor='loss',min_delta=0.1, patience=3, mode='min')"
      ],
      "metadata": {
        "id": "W0BoU8RyslMR"
      },
      "execution_count": null,
      "outputs": []
    },
    {
      "cell_type": "markdown",
      "source": [
        "## Step 5: Fitting and evaluating the model\n",
        "\n",
        "Fit a model using the train data and evaluate the performance. The Mean Squared Error (MSE) / Mean Absolute Error (MAE) can be used as the metrics to evaluate model performance of both train and test data. "
      ],
      "metadata": {
        "id": "UCWPyLdegQLN"
      }
    },
    {
      "cell_type": "code",
      "source": [
        "# fit model\n",
        "model.fit(X, y, epochs=100,batch_size=8, verbose=1,callbacks=[checkpoint,lr_reduce])"
      ],
      "metadata": {
        "colab": {
          "base_uri": "https://localhost:8080/"
        },
        "id": "t5bn5BjKsWlD",
        "outputId": "122c8347-9332-4c20-fe4e-e766e25c287f"
      },
      "execution_count": null,
      "outputs": [
        {
          "output_type": "stream",
          "name": "stdout",
          "text": [
            "Epoch 1/100\n",
            "9/9 [==============================] - ETA: 0s - loss: 75667750912.0000WARNING:tensorflow:Can save best model only with val_loss available, skipping.\n",
            "9/9 [==============================] - 7s 489ms/step - loss: 75667750912.0000 - lr: 0.0010\n",
            "Epoch 2/100\n",
            "9/9 [==============================] - ETA: 0s - loss: 5525275648.0000WARNING:tensorflow:Can save best model only with val_loss available, skipping.\n",
            "9/9 [==============================] - 5s 509ms/step - loss: 5525275648.0000 - lr: 0.0010\n",
            "Epoch 3/100\n",
            "9/9 [==============================] - ETA: 0s - loss: 1965441408.0000WARNING:tensorflow:Can save best model only with val_loss available, skipping.\n",
            "9/9 [==============================] - 4s 492ms/step - loss: 1965441408.0000 - lr: 0.0010\n",
            "Epoch 4/100\n",
            "9/9 [==============================] - ETA: 0s - loss: 1857036672.0000WARNING:tensorflow:Can save best model only with val_loss available, skipping.\n",
            "\n",
            "Epoch 4: ReduceLROnPlateau reducing learning rate to 0.0003000000142492354.\n",
            "9/9 [==============================] - 5s 533ms/step - loss: 1857036672.0000 - lr: 0.0010\n",
            "Epoch 5/100\n",
            "9/9 [==============================] - ETA: 0s - loss: 994441792.0000WARNING:tensorflow:Can save best model only with val_loss available, skipping.\n",
            "9/9 [==============================] - 4s 477ms/step - loss: 994441792.0000 - lr: 3.0000e-04\n",
            "Epoch 6/100\n",
            "9/9 [==============================] - ETA: 0s - loss: 900185024.0000WARNING:tensorflow:Can save best model only with val_loss available, skipping.\n",
            "9/9 [==============================] - 4s 454ms/step - loss: 900185024.0000 - lr: 3.0000e-04\n",
            "Epoch 7/100\n",
            "9/9 [==============================] - ETA: 0s - loss: 973737472.0000WARNING:tensorflow:Can save best model only with val_loss available, skipping.\n",
            "\n",
            "Epoch 7: ReduceLROnPlateau reducing learning rate to 9.000000427477062e-05.\n",
            "9/9 [==============================] - 4s 454ms/step - loss: 973737472.0000 - lr: 3.0000e-04\n",
            "Epoch 8/100\n",
            "9/9 [==============================] - ETA: 0s - loss: 676406272.0000WARNING:tensorflow:Can save best model only with val_loss available, skipping.\n",
            "9/9 [==============================] - 4s 467ms/step - loss: 676406272.0000 - lr: 9.0000e-05\n",
            "Epoch 9/100\n",
            "9/9 [==============================] - ETA: 0s - loss: 586310656.0000WARNING:tensorflow:Can save best model only with val_loss available, skipping.\n",
            "9/9 [==============================] - 5s 542ms/step - loss: 586310656.0000 - lr: 9.0000e-05\n",
            "Epoch 10/100\n",
            "9/9 [==============================] - ETA: 0s - loss: 532567936.0000WARNING:tensorflow:Can save best model only with val_loss available, skipping.\n",
            "\n",
            "Epoch 10: ReduceLROnPlateau reducing learning rate to 2.700000040931627e-05.\n",
            "9/9 [==============================] - 4s 467ms/step - loss: 532567936.0000 - lr: 9.0000e-05\n",
            "Epoch 11/100\n",
            "9/9 [==============================] - ETA: 0s - loss: 413976000.0000WARNING:tensorflow:Can save best model only with val_loss available, skipping.\n",
            "9/9 [==============================] - 5s 519ms/step - loss: 413976000.0000 - lr: 2.7000e-05\n",
            "Epoch 12/100\n",
            "9/9 [==============================] - ETA: 0s - loss: 407927040.0000WARNING:tensorflow:Can save best model only with val_loss available, skipping.\n",
            "9/9 [==============================] - 4s 504ms/step - loss: 407927040.0000 - lr: 2.7000e-05\n",
            "Epoch 13/100\n",
            "9/9 [==============================] - ETA: 0s - loss: 382742816.0000WARNING:tensorflow:Can save best model only with val_loss available, skipping.\n",
            "\n",
            "Epoch 13: ReduceLROnPlateau reducing learning rate to 8.100000013655517e-06.\n",
            "9/9 [==============================] - 4s 450ms/step - loss: 382742816.0000 - lr: 2.7000e-05\n",
            "Epoch 14/100\n",
            "9/9 [==============================] - ETA: 0s - loss: 377022112.0000WARNING:tensorflow:Can save best model only with val_loss available, skipping.\n",
            "9/9 [==============================] - 5s 547ms/step - loss: 377022112.0000 - lr: 8.1000e-06\n",
            "Epoch 15/100\n",
            "9/9 [==============================] - ETA: 0s - loss: 377610688.0000WARNING:tensorflow:Can save best model only with val_loss available, skipping.\n",
            "9/9 [==============================] - 4s 449ms/step - loss: 377610688.0000 - lr: 8.1000e-06\n",
            "Epoch 16/100\n",
            "9/9 [==============================] - ETA: 0s - loss: 380008384.0000WARNING:tensorflow:Can save best model only with val_loss available, skipping.\n",
            "\n",
            "Epoch 16: ReduceLROnPlateau reducing learning rate to 2.429999949526973e-06.\n",
            "9/9 [==============================] - 4s 454ms/step - loss: 380008384.0000 - lr: 8.1000e-06\n",
            "Epoch 17/100\n",
            "9/9 [==============================] - ETA: 0s - loss: 374479104.0000WARNING:tensorflow:Can save best model only with val_loss available, skipping.\n",
            "9/9 [==============================] - 4s 450ms/step - loss: 374479104.0000 - lr: 2.4300e-06\n",
            "Epoch 18/100\n",
            "9/9 [==============================] - ETA: 0s - loss: 373694080.0000WARNING:tensorflow:Can save best model only with val_loss available, skipping.\n",
            "9/9 [==============================] - 4s 447ms/step - loss: 373694080.0000 - lr: 2.4300e-06\n",
            "Epoch 19/100\n",
            "9/9 [==============================] - ETA: 0s - loss: 372434432.0000WARNING:tensorflow:Can save best model only with val_loss available, skipping.\n",
            "\n",
            "Epoch 19: ReduceLROnPlateau reducing learning rate to 7.289999985005124e-07.\n",
            "9/9 [==============================] - 4s 452ms/step - loss: 372434432.0000 - lr: 2.4300e-06\n",
            "Epoch 20/100\n",
            "9/9 [==============================] - ETA: 0s - loss: 371749600.0000WARNING:tensorflow:Can save best model only with val_loss available, skipping.\n",
            "9/9 [==============================] - 4s 452ms/step - loss: 371749600.0000 - lr: 7.2900e-07\n",
            "Epoch 21/100\n",
            "9/9 [==============================] - ETA: 0s - loss: 371814112.0000WARNING:tensorflow:Can save best model only with val_loss available, skipping.\n",
            "9/9 [==============================] - 4s 449ms/step - loss: 371814112.0000 - lr: 7.2900e-07\n",
            "Epoch 22/100\n",
            "9/9 [==============================] - ETA: 0s - loss: 371138784.0000WARNING:tensorflow:Can save best model only with val_loss available, skipping.\n",
            "\n",
            "Epoch 22: ReduceLROnPlateau reducing learning rate to 2.1870000637136398e-07.\n",
            "9/9 [==============================] - 4s 455ms/step - loss: 371138784.0000 - lr: 7.2900e-07\n",
            "Epoch 23/100\n",
            "9/9 [==============================] - ETA: 0s - loss: 370849760.0000WARNING:tensorflow:Can save best model only with val_loss available, skipping.\n",
            "9/9 [==============================] - 5s 500ms/step - loss: 370849760.0000 - lr: 2.1870e-07\n",
            "Epoch 24/100\n",
            "9/9 [==============================] - ETA: 0s - loss: 370836768.0000WARNING:tensorflow:Can save best model only with val_loss available, skipping.\n",
            "9/9 [==============================] - 4s 453ms/step - loss: 370836768.0000 - lr: 2.1870e-07\n",
            "Epoch 25/100\n",
            "9/9 [==============================] - ETA: 0s - loss: 370816032.0000WARNING:tensorflow:Can save best model only with val_loss available, skipping.\n",
            "\n",
            "Epoch 25: ReduceLROnPlateau reducing learning rate to 6.561000276406048e-08.\n",
            "9/9 [==============================] - 4s 466ms/step - loss: 370816032.0000 - lr: 2.1870e-07\n",
            "Epoch 26/100\n",
            "9/9 [==============================] - ETA: 0s - loss: 370735584.0000WARNING:tensorflow:Can save best model only with val_loss available, skipping.\n",
            "9/9 [==============================] - 5s 517ms/step - loss: 370735584.0000 - lr: 6.5610e-08\n",
            "Epoch 27/100\n",
            "9/9 [==============================] - ETA: 0s - loss: 370713280.0000WARNING:tensorflow:Can save best model only with val_loss available, skipping.\n",
            "9/9 [==============================] - 4s 492ms/step - loss: 370713280.0000 - lr: 6.5610e-08\n",
            "Epoch 28/100\n",
            "9/9 [==============================] - ETA: 0s - loss: 370707200.0000WARNING:tensorflow:Can save best model only with val_loss available, skipping.\n",
            "\n",
            "Epoch 28: ReduceLROnPlateau reducing learning rate to 1.9683000829218145e-08.\n",
            "9/9 [==============================] - 4s 488ms/step - loss: 370707200.0000 - lr: 6.5610e-08\n",
            "Epoch 29/100\n",
            "9/9 [==============================] - ETA: 0s - loss: 370672384.0000WARNING:tensorflow:Can save best model only with val_loss available, skipping.\n",
            "9/9 [==============================] - 4s 487ms/step - loss: 370672384.0000 - lr: 1.9683e-08\n",
            "Epoch 30/100\n",
            "9/9 [==============================] - ETA: 0s - loss: 370663072.0000WARNING:tensorflow:Can save best model only with val_loss available, skipping.\n",
            "9/9 [==============================] - 4s 449ms/step - loss: 370663072.0000 - lr: 1.9683e-08\n",
            "Epoch 31/100\n",
            "9/9 [==============================] - ETA: 0s - loss: 370658624.0000WARNING:tensorflow:Can save best model only with val_loss available, skipping.\n",
            "\n",
            "Epoch 31: ReduceLROnPlateau reducing learning rate to 5.904900035602622e-09.\n",
            "9/9 [==============================] - 4s 486ms/step - loss: 370658624.0000 - lr: 1.9683e-08\n",
            "Epoch 32/100\n",
            "9/9 [==============================] - ETA: 0s - loss: 370650016.0000WARNING:tensorflow:Can save best model only with val_loss available, skipping.\n",
            "9/9 [==============================] - 4s 455ms/step - loss: 370650016.0000 - lr: 5.9049e-09\n",
            "Epoch 33/100\n",
            "9/9 [==============================] - ETA: 0s - loss: 370647872.0000WARNING:tensorflow:Can save best model only with val_loss available, skipping.\n",
            "9/9 [==============================] - 4s 499ms/step - loss: 370647872.0000 - lr: 5.9049e-09\n",
            "Epoch 34/100\n",
            "9/9 [==============================] - ETA: 0s - loss: 370646912.0000WARNING:tensorflow:Can save best model only with val_loss available, skipping.\n",
            "\n",
            "Epoch 34: ReduceLROnPlateau reducing learning rate to 1.7714700373261393e-09.\n",
            "9/9 [==============================] - 4s 455ms/step - loss: 370646912.0000 - lr: 5.9049e-09\n",
            "Epoch 35/100\n",
            "9/9 [==============================] - ETA: 0s - loss: 370645216.0000WARNING:tensorflow:Can save best model only with val_loss available, skipping.\n",
            "9/9 [==============================] - 4s 451ms/step - loss: 370645216.0000 - lr: 1.7715e-09\n",
            "Epoch 36/100\n",
            "9/9 [==============================] - ETA: 0s - loss: 370645056.0000WARNING:tensorflow:Can save best model only with val_loss available, skipping.\n",
            "9/9 [==============================] - 4s 449ms/step - loss: 370645056.0000 - lr: 1.7715e-09\n",
            "Epoch 37/100\n",
            "9/9 [==============================] - ETA: 0s - loss: 370644864.0000WARNING:tensorflow:Can save best model only with val_loss available, skipping.\n",
            "\n",
            "Epoch 37: ReduceLROnPlateau reducing learning rate to 5.314410245205181e-10.\n",
            "9/9 [==============================] - 4s 487ms/step - loss: 370644864.0000 - lr: 1.7715e-09\n",
            "Epoch 38/100\n",
            "9/9 [==============================] - ETA: 0s - loss: 370644768.0000WARNING:tensorflow:Can save best model only with val_loss available, skipping.\n",
            "9/9 [==============================] - 4s 447ms/step - loss: 370644768.0000 - lr: 5.3144e-10\n",
            "Epoch 39/100\n",
            "9/9 [==============================] - ETA: 0s - loss: 370644640.0000WARNING:tensorflow:Can save best model only with val_loss available, skipping.\n",
            "9/9 [==============================] - 5s 514ms/step - loss: 370644640.0000 - lr: 5.3144e-10\n",
            "Epoch 40/100\n",
            "9/9 [==============================] - ETA: 0s - loss: 370644480.0000WARNING:tensorflow:Can save best model only with val_loss available, skipping.\n",
            "\n",
            "Epoch 40: ReduceLROnPlateau reducing learning rate to 1.5943230069481729e-10.\n",
            "9/9 [==============================] - 5s 503ms/step - loss: 370644480.0000 - lr: 5.3144e-10\n",
            "Epoch 41/100\n",
            "9/9 [==============================] - ETA: 0s - loss: 370644576.0000WARNING:tensorflow:Can save best model only with val_loss available, skipping.\n",
            "9/9 [==============================] - 5s 525ms/step - loss: 370644576.0000 - lr: 1.5943e-10\n",
            "Epoch 42/100\n",
            "9/9 [==============================] - ETA: 0s - loss: 370644480.0000WARNING:tensorflow:Can save best model only with val_loss available, skipping.\n",
            "9/9 [==============================] - 4s 455ms/step - loss: 370644480.0000 - lr: 1.5943e-10\n",
            "Epoch 43/100\n",
            "9/9 [==============================] - ETA: 0s - loss: 370644480.0000WARNING:tensorflow:Can save best model only with val_loss available, skipping.\n",
            "\n",
            "Epoch 43: ReduceLROnPlateau reducing learning rate to 4.7829690208445185e-11.\n",
            "9/9 [==============================] - 4s 493ms/step - loss: 370644480.0000 - lr: 1.5943e-10\n",
            "Epoch 44/100\n",
            "9/9 [==============================] - ETA: 0s - loss: 370644480.0000WARNING:tensorflow:Can save best model only with val_loss available, skipping.\n",
            "9/9 [==============================] - 5s 526ms/step - loss: 370644480.0000 - lr: 4.7830e-11\n",
            "Epoch 45/100\n",
            "9/9 [==============================] - ETA: 0s - loss: 370644544.0000WARNING:tensorflow:Can save best model only with val_loss available, skipping.\n",
            "9/9 [==============================] - 4s 480ms/step - loss: 370644544.0000 - lr: 4.7830e-11\n",
            "Epoch 46/100\n",
            "9/9 [==============================] - ETA: 0s - loss: 370644416.0000WARNING:tensorflow:Can save best model only with val_loss available, skipping.\n",
            "\n",
            "Epoch 46: ReduceLROnPlateau reducing learning rate to 1.434890747886719e-11.\n",
            "9/9 [==============================] - 5s 505ms/step - loss: 370644416.0000 - lr: 4.7830e-11\n",
            "Epoch 47/100\n",
            "9/9 [==============================] - ETA: 0s - loss: 370644416.0000WARNING:tensorflow:Can save best model only with val_loss available, skipping.\n",
            "9/9 [==============================] - 5s 619ms/step - loss: 370644416.0000 - lr: 1.4349e-11\n",
            "Epoch 48/100\n",
            "9/9 [==============================] - ETA: 0s - loss: 370644480.0000WARNING:tensorflow:Can save best model only with val_loss available, skipping.\n",
            "9/9 [==============================] - 5s 521ms/step - loss: 370644480.0000 - lr: 1.4349e-11\n",
            "Epoch 49/100\n",
            "9/9 [==============================] - ETA: 0s - loss: 370644512.0000WARNING:tensorflow:Can save best model only with val_loss available, skipping.\n",
            "\n",
            "Epoch 49: ReduceLROnPlateau reducing learning rate to 4.304672243660157e-12.\n",
            "9/9 [==============================] - 4s 503ms/step - loss: 370644512.0000 - lr: 1.4349e-11\n",
            "Epoch 50/100\n",
            "9/9 [==============================] - ETA: 0s - loss: 370644416.0000WARNING:tensorflow:Can save best model only with val_loss available, skipping.\n",
            "9/9 [==============================] - 5s 605ms/step - loss: 370644416.0000 - lr: 4.3047e-12\n",
            "Epoch 51/100\n",
            "9/9 [==============================] - ETA: 0s - loss: 370644352.0000WARNING:tensorflow:Can save best model only with val_loss available, skipping.\n",
            "9/9 [==============================] - 5s 496ms/step - loss: 370644352.0000 - lr: 4.3047e-12\n",
            "Epoch 52/100\n",
            "9/9 [==============================] - ETA: 0s - loss: 370644480.0000WARNING:tensorflow:Can save best model only with val_loss available, skipping.\n",
            "\n",
            "Epoch 52: ReduceLROnPlateau reducing learning rate to 1.2914016210563428e-12.\n",
            "9/9 [==============================] - 5s 555ms/step - loss: 370644480.0000 - lr: 4.3047e-12\n",
            "Epoch 53/100\n",
            "9/9 [==============================] - ETA: 0s - loss: 370644480.0000WARNING:tensorflow:Can save best model only with val_loss available, skipping.\n",
            "9/9 [==============================] - 4s 490ms/step - loss: 370644480.0000 - lr: 1.2914e-12\n",
            "Epoch 54/100\n",
            "9/9 [==============================] - ETA: 0s - loss: 370644416.0000WARNING:tensorflow:Can save best model only with val_loss available, skipping.\n",
            "9/9 [==============================] - 5s 508ms/step - loss: 370644416.0000 - lr: 1.2914e-12\n",
            "Epoch 55/100\n",
            "9/9 [==============================] - ETA: 0s - loss: 370644448.0000WARNING:tensorflow:Can save best model only with val_loss available, skipping.\n",
            "\n",
            "Epoch 55: ReduceLROnPlateau reducing learning rate to 3.874204993273289e-13.\n",
            "9/9 [==============================] - 4s 465ms/step - loss: 370644448.0000 - lr: 1.2914e-12\n",
            "Epoch 56/100\n",
            "9/9 [==============================] - ETA: 0s - loss: 370644448.0000WARNING:tensorflow:Can save best model only with val_loss available, skipping.\n",
            "9/9 [==============================] - 4s 495ms/step - loss: 370644448.0000 - lr: 3.8742e-13\n",
            "Epoch 57/100\n",
            "9/9 [==============================] - ETA: 0s - loss: 370644448.0000WARNING:tensorflow:Can save best model only with val_loss available, skipping.\n",
            "9/9 [==============================] - 5s 567ms/step - loss: 370644448.0000 - lr: 3.8742e-13\n",
            "Epoch 58/100\n",
            "9/9 [==============================] - ETA: 0s - loss: 370644512.0000WARNING:tensorflow:Can save best model only with val_loss available, skipping.\n",
            "\n",
            "Epoch 58: ReduceLROnPlateau reducing learning rate to 1.162261530508052e-13.\n",
            "9/9 [==============================] - 5s 597ms/step - loss: 370644512.0000 - lr: 3.8742e-13\n",
            "Epoch 59/100\n",
            "9/9 [==============================] - ETA: 0s - loss: 370644384.0000WARNING:tensorflow:Can save best model only with val_loss available, skipping.\n",
            "9/9 [==============================] - 6s 639ms/step - loss: 370644384.0000 - lr: 1.1623e-13\n",
            "Epoch 60/100\n",
            "9/9 [==============================] - ETA: 0s - loss: 370644480.0000WARNING:tensorflow:Can save best model only with val_loss available, skipping.\n",
            "9/9 [==============================] - 6s 648ms/step - loss: 370644480.0000 - lr: 1.1623e-13\n",
            "Epoch 61/100\n",
            "9/9 [==============================] - ETA: 0s - loss: 370644480.0000WARNING:tensorflow:Can save best model only with val_loss available, skipping.\n",
            "\n",
            "Epoch 61: ReduceLROnPlateau reducing learning rate to 3.4867844288938296e-14.\n",
            "9/9 [==============================] - 6s 639ms/step - loss: 370644480.0000 - lr: 1.1623e-13\n",
            "Epoch 62/100\n",
            "9/9 [==============================] - ETA: 0s - loss: 370644448.0000WARNING:tensorflow:Can save best model only with val_loss available, skipping.\n",
            "9/9 [==============================] - 6s 652ms/step - loss: 370644448.0000 - lr: 3.4868e-14\n",
            "Epoch 63/100\n",
            "9/9 [==============================] - ETA: 0s - loss: 370644448.0000WARNING:tensorflow:Can save best model only with val_loss available, skipping.\n",
            "9/9 [==============================] - 6s 645ms/step - loss: 370644448.0000 - lr: 3.4868e-14\n",
            "Epoch 64/100\n",
            "9/9 [==============================] - ETA: 0s - loss: 370644480.0000WARNING:tensorflow:Can save best model only with val_loss available, skipping.\n",
            "\n",
            "Epoch 64: ReduceLROnPlateau reducing learning rate to 1.0460353083393582e-14.\n",
            "9/9 [==============================] - 6s 646ms/step - loss: 370644480.0000 - lr: 3.4868e-14\n",
            "Epoch 65/100\n",
            "9/9 [==============================] - ETA: 0s - loss: 370644480.0000WARNING:tensorflow:Can save best model only with val_loss available, skipping.\n",
            "9/9 [==============================] - 6s 650ms/step - loss: 370644480.0000 - lr: 1.0460e-14\n",
            "Epoch 66/100\n",
            "9/9 [==============================] - ETA: 0s - loss: 370644384.0000WARNING:tensorflow:Can save best model only with val_loss available, skipping.\n",
            "9/9 [==============================] - 6s 650ms/step - loss: 370644384.0000 - lr: 1.0460e-14\n",
            "Epoch 67/100\n",
            "9/9 [==============================] - ETA: 0s - loss: 370644448.0000WARNING:tensorflow:Can save best model only with val_loss available, skipping.\n",
            "\n",
            "Epoch 67: ReduceLROnPlateau reducing learning rate to 3.138105874196098e-15.\n",
            "9/9 [==============================] - 6s 648ms/step - loss: 370644448.0000 - lr: 1.0460e-14\n",
            "Epoch 68/100\n",
            "9/9 [==============================] - ETA: 0s - loss: 370644448.0000WARNING:tensorflow:Can save best model only with val_loss available, skipping.\n",
            "9/9 [==============================] - 6s 660ms/step - loss: 370644448.0000 - lr: 3.1381e-15\n",
            "Epoch 69/100\n",
            "9/9 [==============================] - ETA: 0s - loss: 370644416.0000WARNING:tensorflow:Can save best model only with val_loss available, skipping.\n",
            "9/9 [==============================] - 6s 662ms/step - loss: 370644416.0000 - lr: 3.1381e-15\n",
            "Epoch 70/100\n",
            "9/9 [==============================] - ETA: 0s - loss: 370644448.0000WARNING:tensorflow:Can save best model only with val_loss available, skipping.\n",
            "\n",
            "Epoch 70: ReduceLROnPlateau reducing learning rate to 9.414317622588293e-16.\n",
            "9/9 [==============================] - 6s 670ms/step - loss: 370644448.0000 - lr: 3.1381e-15\n",
            "Epoch 71/100\n",
            "9/9 [==============================] - ETA: 0s - loss: 370644416.0000WARNING:tensorflow:Can save best model only with val_loss available, skipping.\n",
            "9/9 [==============================] - 6s 648ms/step - loss: 370644416.0000 - lr: 9.4143e-16\n",
            "Epoch 72/100\n",
            "9/9 [==============================] - ETA: 0s - loss: 370644448.0000WARNING:tensorflow:Can save best model only with val_loss available, skipping.\n",
            "9/9 [==============================] - 6s 654ms/step - loss: 370644448.0000 - lr: 9.4143e-16\n",
            "Epoch 73/100\n",
            "9/9 [==============================] - ETA: 0s - loss: 370644416.0000WARNING:tensorflow:Can save best model only with val_loss available, skipping.\n",
            "\n",
            "Epoch 73: ReduceLROnPlateau reducing learning rate to 2.8242954138314303e-16.\n",
            "9/9 [==============================] - 6s 644ms/step - loss: 370644416.0000 - lr: 9.4143e-16\n",
            "Epoch 74/100\n",
            "9/9 [==============================] - ETA: 0s - loss: 370644448.0000WARNING:tensorflow:Can save best model only with val_loss available, skipping.\n",
            "9/9 [==============================] - 6s 654ms/step - loss: 370644448.0000 - lr: 2.8243e-16\n",
            "Epoch 75/100\n",
            "9/9 [==============================] - ETA: 0s - loss: 370644480.0000WARNING:tensorflow:Can save best model only with val_loss available, skipping.\n",
            "9/9 [==============================] - 5s 603ms/step - loss: 370644480.0000 - lr: 2.8243e-16\n",
            "Epoch 76/100\n",
            "9/9 [==============================] - ETA: 0s - loss: 370644480.0000WARNING:tensorflow:Can save best model only with val_loss available, skipping.\n",
            "\n",
            "Epoch 76: ReduceLROnPlateau reducing learning rate to 8.472885923856935e-17.\n",
            "9/9 [==============================] - 6s 652ms/step - loss: 370644480.0000 - lr: 2.8243e-16\n",
            "Epoch 77/100\n",
            "9/9 [==============================] - ETA: 0s - loss: 370644480.0000WARNING:tensorflow:Can save best model only with val_loss available, skipping.\n",
            "9/9 [==============================] - 6s 644ms/step - loss: 370644480.0000 - lr: 8.4729e-17\n",
            "Epoch 78/100\n",
            "9/9 [==============================] - ETA: 0s - loss: 370644384.0000WARNING:tensorflow:Can save best model only with val_loss available, skipping.\n",
            "9/9 [==============================] - 6s 649ms/step - loss: 370644384.0000 - lr: 8.4729e-17\n",
            "Epoch 79/100\n",
            "9/9 [==============================] - ETA: 0s - loss: 370644448.0000WARNING:tensorflow:Can save best model only with val_loss available, skipping.\n",
            "\n",
            "Epoch 79: ReduceLROnPlateau reducing learning rate to 2.541865737452411e-17.\n",
            "9/9 [==============================] - 6s 653ms/step - loss: 370644448.0000 - lr: 8.4729e-17\n",
            "Epoch 80/100\n",
            "9/9 [==============================] - ETA: 0s - loss: 370644352.0000WARNING:tensorflow:Can save best model only with val_loss available, skipping.\n",
            "9/9 [==============================] - 6s 648ms/step - loss: 370644352.0000 - lr: 2.5419e-17\n",
            "Epoch 81/100\n",
            "9/9 [==============================] - ETA: 0s - loss: 370644384.0000WARNING:tensorflow:Can save best model only with val_loss available, skipping.\n",
            "9/9 [==============================] - 6s 655ms/step - loss: 370644384.0000 - lr: 2.5419e-17\n",
            "Epoch 82/100\n",
            "9/9 [==============================] - ETA: 0s - loss: 370644416.0000WARNING:tensorflow:Can save best model only with val_loss available, skipping.\n",
            "\n",
            "Epoch 82: ReduceLROnPlateau reducing learning rate to 7.62559741088058e-18.\n",
            "9/9 [==============================] - 6s 643ms/step - loss: 370644416.0000 - lr: 2.5419e-17\n",
            "Epoch 83/100\n",
            "9/9 [==============================] - ETA: 0s - loss: 370644416.0000WARNING:tensorflow:Can save best model only with val_loss available, skipping.\n",
            "9/9 [==============================] - 6s 638ms/step - loss: 370644416.0000 - lr: 7.6256e-18\n",
            "Epoch 84/100\n",
            "9/9 [==============================] - ETA: 0s - loss: 370644448.0000WARNING:tensorflow:Can save best model only with val_loss available, skipping.\n",
            "9/9 [==============================] - 6s 656ms/step - loss: 370644448.0000 - lr: 7.6256e-18\n",
            "Epoch 85/100\n",
            "9/9 [==============================] - ETA: 0s - loss: 370644448.0000WARNING:tensorflow:Can save best model only with val_loss available, skipping.\n",
            "\n",
            "Epoch 85: ReduceLROnPlateau reducing learning rate to 2.2876793225258477e-18.\n",
            "9/9 [==============================] - 5s 578ms/step - loss: 370644448.0000 - lr: 7.6256e-18\n",
            "Epoch 86/100\n",
            "9/9 [==============================] - ETA: 0s - loss: 370644384.0000WARNING:tensorflow:Can save best model only with val_loss available, skipping.\n",
            "9/9 [==============================] - 4s 456ms/step - loss: 370644384.0000 - lr: 2.2877e-18\n",
            "Epoch 87/100\n",
            "9/9 [==============================] - ETA: 0s - loss: 370644512.0000WARNING:tensorflow:Can save best model only with val_loss available, skipping.\n",
            "9/9 [==============================] - 5s 529ms/step - loss: 370644512.0000 - lr: 2.2877e-18\n",
            "Epoch 88/100\n",
            "9/9 [==============================] - ETA: 0s - loss: 370644416.0000WARNING:tensorflow:Can save best model only with val_loss available, skipping.\n",
            "\n",
            "Epoch 88: ReduceLROnPlateau reducing learning rate to 6.863037719423359e-19.\n",
            "9/9 [==============================] - 5s 534ms/step - loss: 370644416.0000 - lr: 2.2877e-18\n",
            "Epoch 89/100\n",
            "9/9 [==============================] - ETA: 0s - loss: 370644416.0000WARNING:tensorflow:Can save best model only with val_loss available, skipping.\n",
            "9/9 [==============================] - 4s 487ms/step - loss: 370644416.0000 - lr: 6.8630e-19\n",
            "Epoch 90/100\n",
            "9/9 [==============================] - ETA: 0s - loss: 370644352.0000WARNING:tensorflow:Can save best model only with val_loss available, skipping.\n",
            "9/9 [==============================] - 4s 457ms/step - loss: 370644352.0000 - lr: 6.8630e-19\n",
            "Epoch 91/100\n",
            "9/9 [==============================] - ETA: 0s - loss: 370644480.0000WARNING:tensorflow:Can save best model only with val_loss available, skipping.\n",
            "\n",
            "Epoch 91: ReduceLROnPlateau reducing learning rate to 2.0589113778655536e-19.\n",
            "9/9 [==============================] - 5s 569ms/step - loss: 370644480.0000 - lr: 6.8630e-19\n",
            "Epoch 92/100\n",
            "9/9 [==============================] - ETA: 0s - loss: 370644448.0000WARNING:tensorflow:Can save best model only with val_loss available, skipping.\n",
            "9/9 [==============================] - 4s 451ms/step - loss: 370644448.0000 - lr: 2.0589e-19\n",
            "Epoch 93/100\n",
            "9/9 [==============================] - ETA: 0s - loss: 370644384.0000WARNING:tensorflow:Can save best model only with val_loss available, skipping.\n",
            "9/9 [==============================] - 4s 455ms/step - loss: 370644384.0000 - lr: 2.0589e-19\n",
            "Epoch 94/100\n",
            "9/9 [==============================] - ETA: 0s - loss: 370644448.0000WARNING:tensorflow:Can save best model only with val_loss available, skipping.\n",
            "\n",
            "Epoch 94: ReduceLROnPlateau reducing learning rate to 6.176734056048479e-20.\n",
            "9/9 [==============================] - 4s 455ms/step - loss: 370644448.0000 - lr: 2.0589e-19\n",
            "Epoch 95/100\n",
            "9/9 [==============================] - ETA: 0s - loss: 370644448.0000WARNING:tensorflow:Can save best model only with val_loss available, skipping.\n",
            "9/9 [==============================] - 4s 457ms/step - loss: 370644448.0000 - lr: 6.1767e-20\n",
            "Epoch 96/100\n",
            "9/9 [==============================] - ETA: 0s - loss: 370644416.0000WARNING:tensorflow:Can save best model only with val_loss available, skipping.\n",
            "9/9 [==============================] - 4s 469ms/step - loss: 370644416.0000 - lr: 6.1767e-20\n",
            "Epoch 97/100\n",
            "9/9 [==============================] - ETA: 0s - loss: 370644448.0000WARNING:tensorflow:Can save best model only with val_loss available, skipping.\n",
            "\n",
            "Epoch 97: ReduceLROnPlateau reducing learning rate to 1.8530202168145436e-20.\n",
            "9/9 [==============================] - 4s 452ms/step - loss: 370644448.0000 - lr: 6.1767e-20\n",
            "Epoch 98/100\n",
            "9/9 [==============================] - ETA: 0s - loss: 370644448.0000WARNING:tensorflow:Can save best model only with val_loss available, skipping.\n",
            "9/9 [==============================] - 4s 454ms/step - loss: 370644448.0000 - lr: 1.8530e-20\n",
            "Epoch 99/100\n",
            "9/9 [==============================] - ETA: 0s - loss: 370644416.0000WARNING:tensorflow:Can save best model only with val_loss available, skipping.\n",
            "9/9 [==============================] - 4s 489ms/step - loss: 370644416.0000 - lr: 1.8530e-20\n",
            "Epoch 100/100\n",
            "9/9 [==============================] - ETA: 0s - loss: 370644416.0000WARNING:tensorflow:Can save best model only with val_loss available, skipping.\n",
            "\n",
            "Epoch 100: ReduceLROnPlateau reducing learning rate to 5.559060844314087e-21.\n",
            "9/9 [==============================] - 4s 459ms/step - loss: 370644416.0000 - lr: 1.8530e-20\n"
          ]
        },
        {
          "output_type": "execute_result",
          "data": {
            "text/plain": [
              "<keras.callbacks.History at 0x7f8216de9d90>"
            ]
          },
          "metadata": {},
          "execution_count": 49
        }
      ]
    },
    {
      "cell_type": "code",
      "metadata": {
        "colab": {
          "base_uri": "https://localhost:8080/"
        },
        "id": "LJT3zrvUKubV",
        "outputId": "e0cba923-7254-47b7-bd7c-01840361ed2b"
      },
      "source": [
        "## Prediction\n",
        "\n",
        "y_hat=model.predict(X, verbose=1)\n",
        "print(y_hat)"
      ],
      "execution_count": null,
      "outputs": [
        {
          "output_type": "stream",
          "name": "stdout",
          "text": [
            "3/3 [==============================] - 1s 97ms/step\n",
            "[[  6831.4487]\n",
            " [  8098.2607]\n",
            " [  8936.639 ]\n",
            " [  8560.402 ]\n",
            " [  8191.3145]\n",
            " [  7895.057 ]\n",
            " [  7149.759 ]\n",
            " [  5952.7114]\n",
            " [  6636.522 ]\n",
            " [  7651.43  ]\n",
            " [  7260.913 ]\n",
            " [  7249.757 ]\n",
            " [  7159.7783]\n",
            " [  6732.425 ]\n",
            " [  5350.8193]\n",
            " [  6062.6787]\n",
            " [  7109.525 ]\n",
            " [  6633.4844]\n",
            " [  7155.3413]\n",
            " [  7202.119 ]\n",
            " [  6656.264 ]\n",
            " [  6064.884 ]\n",
            " [  8645.226 ]\n",
            " [ 12779.215 ]\n",
            " [ 16285.553 ]\n",
            " [ 23142.787 ]\n",
            " [ 27286.443 ]\n",
            " [ 33378.117 ]\n",
            " [ 36944.008 ]\n",
            " [ 59733.586 ]\n",
            " [ 89954.734 ]\n",
            " [117768.99  ]\n",
            " [138874.75  ]\n",
            " [156823.88  ]\n",
            " [180086.12  ]\n",
            " [173870.03  ]\n",
            " [198478.66  ]\n",
            " [241331.19  ]\n",
            " [251516.31  ]\n",
            " [271445.8   ]\n",
            " [275415.06  ]\n",
            " [262155.9   ]\n",
            " [244421.02  ]\n",
            " [275260.12  ]\n",
            " [312789.47  ]\n",
            " [342609.7   ]\n",
            " [345135.84  ]\n",
            " [335787.2   ]\n",
            " [313549.3   ]\n",
            " [255077.56  ]\n",
            " [268316.75  ]\n",
            " [273396.9   ]\n",
            " [247555.67  ]\n",
            " [227290.9   ]\n",
            " [222662.69  ]\n",
            " [202980.56  ]\n",
            " [175361.86  ]\n",
            " [162527.73  ]\n",
            " [156977.42  ]\n",
            " [142912.69  ]\n",
            " [128480.3   ]\n",
            " [113103.    ]\n",
            " [ 95856.516 ]\n",
            " [ 80785.56  ]\n",
            " [ 71561.86  ]\n",
            " [ 63511.34  ]]\n"
          ]
        }
      ]
    },
    {
      "cell_type": "code",
      "metadata": {
        "colab": {
          "base_uri": "https://localhost:8080/"
        },
        "id": "sQeO1zuwMYf1",
        "outputId": "c1bc1939-beac-4e9a-eb82-08dbe72c6596"
      },
      "source": [
        "n_steps=6\n",
        "df_pred=pd.DataFrame.from_records(y_hat, columns=['Predicted'])\n",
        "df_pred=df_pred.reset_index(drop=True)\n",
        "\n",
        "\n",
        "df_actual= pd.DataFrame(dat[n_steps:len(dat)], columns=['Actual'])\n",
        "df_actual=df_actual.reset_index(drop=True)\n",
        "print(df_actual)\n",
        "\n",
        "Date=df.iloc[n_steps:,0]\n",
        "Date=Date.reset_index(drop=True)\n",
        "#print(Date)\n",
        "#print(Date.shape)\n",
        "#print(type(df_pred))\n",
        "#print(type(df_actual))\n",
        "#print(type(Date))\n",
        "\n",
        "data=pd.concat ([Date,df_actual,df_pred],axis=1)\n",
        "print(type(data))\n",
        "print(data.shape)\n",
        "print(data)\n",
        "#df_pred.merge(df_actual,left_index=True, right_index=True)\n",
        "#print(type(df_actual))\n",
        "#print(df_actual.shape)"
      ],
      "execution_count": null,
      "outputs": [
        {
          "output_type": "stream",
          "name": "stdout",
          "text": [
            "    Actual\n",
            "0     8590\n",
            "1     9303\n",
            "2     8614\n",
            "3     7971\n",
            "4     7749\n",
            "..     ...\n",
            "61   84391\n",
            "62   66063\n",
            "63   71274\n",
            "64   66924\n",
            "65   58350\n",
            "\n",
            "[66 rows x 1 columns]\n",
            "<class 'pandas.core.frame.DataFrame'>\n",
            "(66, 3)\n",
            "         Date  Actual      Predicted\n",
            "0  2021-12-07    8590    6831.448730\n",
            "1  2021-12-08    9303    8098.260742\n",
            "2  2021-12-09    8614    8936.638672\n",
            "3  2021-12-10    7971    8560.402344\n",
            "4  2021-12-11    7749    8191.314453\n",
            "..        ...     ...            ...\n",
            "61 2022-02-06   84391  113103.000000\n",
            "62 2022-02-07   66063   95856.515625\n",
            "63 2022-02-08   71274   80785.562500\n",
            "64 2022-02-09   66924   71561.859375\n",
            "65 2022-02-10   58350   63511.339844\n",
            "\n",
            "[66 rows x 3 columns]\n"
          ]
        }
      ]
    },
    {
      "cell_type": "markdown",
      "source": [
        "**Evaluation Metrics for traning data set.**"
      ],
      "metadata": {
        "id": "xDOUMomTgYYx"
      }
    },
    {
      "cell_type": "code",
      "metadata": {
        "colab": {
          "base_uri": "https://localhost:8080/"
        },
        "id": "_iTCbQS8NQC3",
        "outputId": "dd5d6dcb-7f5e-4300-cc95-043ca19ae950"
      },
      "source": [
        "from sklearn.metrics import r2_score, mean_absolute_error, mean_squared_error\n",
        "\n",
        "R2=r2_score(df_actual, df_pred)\n",
        "print('R Squared: ', R2)\n",
        "\n",
        "mae=mean_absolute_error(df_actual, df_pred)\n",
        "print('Mean Absolute Error: ', mae)\n",
        "\n",
        "mse=mean_squared_error(df_actual, df_pred)\n",
        "print('Mean Squared Error: ', mse)"
      ],
      "execution_count": null,
      "outputs": [
        {
          "output_type": "stream",
          "name": "stdout",
          "text": [
            "R Squared:  0.9713352640832579\n",
            "Mean Absolute Error:  13237.219770951704\n",
            "Mean Squared Error:  370644179.6222538\n"
          ]
        }
      ]
    },
    {
      "cell_type": "code",
      "metadata": {
        "colab": {
          "base_uri": "https://localhost:8080/",
          "height": 442
        },
        "id": "kkhZyUhXOOKy",
        "outputId": "059307be-36b3-473d-b737-dcc7465534f2"
      },
      "source": [
        "# Plot\n",
        "ax=df_actual.plot(label='Observed', figsize=(9,7))\n",
        "df_pred.plot(ax=ax)\n",
        "ax.set_xlabel('Date')\n",
        "ax.set_ylabel('Covid19 Casses')\n",
        "plt.legend()\n",
        "plt.show()"
      ],
      "execution_count": null,
      "outputs": [
        {
          "output_type": "display_data",
          "data": {
            "image/png": "[encoded data removed]",
            "text/plain": [
              "<Figure size 648x504 with 1 Axes>"
            ]
          },
          "metadata": {
            "needs_background": "light"
          }
        }
      ]
    },
    {
      "cell_type": "markdown",
      "source": [
        "## Step 6: Future Preiction\n",
        "\n",
        "In order to predict the future value, we have to feed past data as the input. In the absence of past value we can use our predicted value of the corresponding day as the input. The Python code for all the above steps are given in the appendix for the future work."
      ],
      "metadata": {
        "id": "HRg6wLDmgcdI"
      }
    },
    {
      "cell_type": "code",
      "metadata": {
        "id": "anXFxek5O4-J"
      },
      "source": [
        "# Future Prediction\n",
        "\n",
        "predictions=model.predict(X,verbose=1)\n",
        "future_time_steps=15\n",
        "x1=X[-1:,:,:]  # Take last input\n",
        "x1=x1.astype('float64') \n",
        "\n",
        "p1=predictions[-1:]  # take last output\n",
        "\n",
        "for i  in range(future_time_steps):\n",
        "  x2=np.array([[x1[0][1],x1[0][2],x1[0][3],x1[0][4],x1[0][5], p1]], dtype=np.float)\n",
        "  #print(x2)\n",
        "  p2=model.predict(x2, verbose=1)\n",
        "  predictions=np.append(predictions, p2)\n",
        "  x1=x2\n",
        "  p1=p2\n",
        "\n",
        "yhat=predictions\n",
        "yhat=np.reshape(yhat, (-1,1))\n",
        "\n",
        "df_pred=pd.DataFrame.from_records(yhat, columns=['Predicted'])\n",
        "df_pred=df_pred.reset_index(drop=True)\n",
        "\n",
        "df_actual=df[n_steps:len(df)]\n",
        "df_actual=df_actual.reset_index(drop=True)"
      ],
      "execution_count": null,
      "outputs": []
    },
    {
      "cell_type": "code",
      "metadata": {
        "colab": {
          "base_uri": "https://localhost:8080/"
        },
        "id": "sC7i3223jtQM",
        "outputId": "a7d3a4c5-c023-4b52-bff7-97b6b978bfa4"
      },
      "source": [
        "Predicted_data=pd.concat ([df_actual,df_pred],axis=1)\n",
        "print(type(Predicted_data))\n",
        "print(Predicted_data.shape)\n",
        "print(Predicted_data)"
      ],
      "execution_count": null,
      "outputs": [
        {
          "output_type": "stream",
          "name": "stdout",
          "text": [
            "<class 'pandas.core.frame.DataFrame'>\n",
            "(81, 4)\n",
            "         Date  Confirmed  Total Confirmed     Predicted\n",
            "0  2021-12-07     8590.0       34657114.0   6831.448730\n",
            "1  2021-12-08     9303.0       34666417.0   8098.260742\n",
            "2  2021-12-09     8614.0       34675031.0   8936.638672\n",
            "3  2021-12-10     7971.0       34683002.0   8560.402344\n",
            "4  2021-12-11     7749.0       34690751.0   8191.314453\n",
            "..        ...        ...              ...           ...\n",
            "76        NaT        NaN              NaN  36679.203125\n",
            "77        NaT        NaN              NaN  34909.742188\n",
            "78        NaT        NaN              NaN  33225.796875\n",
            "79        NaT        NaN              NaN  31623.041016\n",
            "80        NaT        NaN              NaN  30097.552734\n",
            "\n",
            "[81 rows x 4 columns]\n"
          ]
        }
      ]
    },
    {
      "cell_type": "markdown",
      "source": [
        "## Step 7: Download the data\n",
        "\n",
        "Write the Predicted data as .csv file and download it  for future purpose"
      ],
      "metadata": {
        "id": "4LucXqmag153"
      }
    },
    {
      "cell_type": "code",
      "metadata": {
        "colab": {
          "base_uri": "https://localhost:8080/",
          "height": 17
        },
        "id": "mi4Gh_-3RHzK",
        "outputId": "fbcb9758-2201-4551-f56e-6e9c0743d1e8"
      },
      "source": [
        "from google.colab import files\n",
        "Predicted_data.to_csv('India -COVID-19 Prediction_simple LSTM.csv') \n",
        "files.download('India -COVID-19 Prediction_simple LSTM.csv')\n"
      ],
      "execution_count": null,
      "outputs": [
        {
          "output_type": "display_data",
          "data": {
            "application/javascript": [
              "\n",
              "    async function download(id, filename, size) {\n",
              "      if (!google.colab.kernel.accessAllowed) {\n",
              "        return;\n",
              "      }\n",
              "      const div = document.createElement('div');\n",
              "      const label = document.createElement('label');\n",
              "      label.textContent = `Downloading \"${filename}\": `;\n",
              "      div.appendChild(label);\n",
              "      const progress = document.createElement('progress');\n",
              "      progress.max = size;\n",
              "      div.appendChild(progress);\n",
              "      document.body.appendChild(div);\n",
              "\n",
              "      const buffers = [];\n",
              "      let downloaded = 0;\n",
              "\n",
              "      const channel = await google.colab.kernel.comms.open(id);\n",
              "      // Send a message to notify the kernel that we're ready.\n",
              "      channel.send({})\n",
              "\n",
              "      for await (const message of channel.messages) {\n",
              "        // Send a message to notify the kernel that we're ready.\n",
              "        channel.send({})\n",
              "        if (message.buffers) {\n",
              "          for (const buffer of message.buffers) {\n",
              "            buffers.push(buffer);\n",
              "            downloaded += buffer.byteLength;\n",
              "            progress.value = downloaded;\n",
              "          }\n",
              "        }\n",
              "      }\n",
              "      const blob = new Blob(buffers, {type: 'application/binary'});\n",
              "      const a = document.createElement('a');\n",
              "      a.href = window.URL.createObjectURL(blob);\n",
              "      a.download = filename;\n",
              "      div.appendChild(a);\n",
              "      a.click();\n",
              "      div.remove();\n",
              "    }\n",
              "  "
            ],
            "text/plain": [
              "<IPython.core.display.Javascript object>"
            ]
          },
          "metadata": {}
        },
        {
          "output_type": "display_data",
          "data": {
            "application/javascript": [
              "download(\"download_cc583658-1735-474e-bd4c-71a881d633ba\", \"TN -COVID-19 Prediction_simple LSTM 17Feb22.csv\", 3088)"
            ],
            "text/plain": [
              "<IPython.core.display.Javascript object>"
            ]
          },
          "metadata": {}
        }
      ]
    }
  ]
}