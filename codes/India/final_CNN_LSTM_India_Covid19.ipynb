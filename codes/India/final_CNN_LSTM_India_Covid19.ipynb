{
  "nbformat": 4,
  "nbformat_minor": 0,
  "metadata": {
    "colab": {
      "name": "final_CNN_LSTM_India_Covid19.ipynb",
      "provenance": [],
      "collapsed_sections": []
    },
    "kernelspec": {
      "name": "python3",
      "display_name": "Python 3"
    }
  },
  "cells": [
    {
      "cell_type": "markdown",
      "source": [
        "## Step 0: Pre-Requirements - Import Modules "
      ],
      "metadata": {
        "id": "Wr_9O6Qb1x7S"
      }
    },
    {
      "cell_type": "code",
      "metadata": {
        "colab": {
          "base_uri": "https://localhost:8080/"
        },
        "id": "Nr_UaZQrIeJ7",
        "outputId": "c0257d53-3267-4c92-a839-cbdc7b356a17"
      },
      "source": [
        "import numpy as np\n",
        "import pandas as pd\n",
        "import matplotlib.pyplot as plt\n",
        "%matplotlib\n",
        "from statsmodels.tools.eval_measures import rmse \n",
        "from sklearn.preprocessing import MinMaxScaler\n",
        "import keras\n",
        "import tensorflow as tf\n",
        "from keras.preprocessing.sequence import TimeseriesGenerator\n",
        "from keras.models import Sequential\n",
        "from keras.layers import Dense\n",
        "from keras.layers import LSTM\n",
        "from keras.layers import Dropout\n",
        "import warnings \n",
        "warnings.filterwarnings(\"ignore\")"
      ],
      "execution_count": null,
      "outputs": [
        {
          "output_type": "stream",
          "name": "stdout",
          "text": [
            "Using matplotlib backend: agg\n"
          ]
        },
        {
          "output_type": "stream",
          "name": "stderr",
          "text": [
            "/usr/local/lib/python3.7/dist-packages/statsmodels/tools/_testing.py:19: FutureWarning: pandas.util.testing is deprecated. Use the functions in the public API at pandas.testing instead.\n",
            "  import pandas.util.testing as tm\n"
          ]
        }
      ]
    },
    {
      "cell_type": "markdown",
      "source": [
        "## Step 1 : Import data set and draw ACF / PACF plot then choose time lag"
      ],
      "metadata": {
        "id": "PM8wfOVH12ka"
      }
    },
    {
      "cell_type": "markdown",
      "source": [
        "Download the data from https://github.com/Marimuthu8421/LSTM-Models/tree/main/data/India and store it in your local file. Run the below code and click 'Choose Files' then browse your data (.csv file).   "
      ],
      "metadata": {
        "id": "g7LYszk213bB"
      }
    },
    {
      "cell_type": "code",
      "metadata": {
        "id": "OmRxHc81IkFl",
        "colab": {
          "resources": {
            "http://localhost:8080/nbextensions/google.colab/files.js": {
              "data": "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",
              "ok": true,
              "headers": [
                [
                  "content-type",
                  "application/javascript"
                ]
              ],
              "status": 200,
              "status_text": "OK"
            }
          },
          "base_uri": "https://localhost:8080/",
          "height": 73
        },
        "outputId": "30e21e15-213f-48fa-ab29-d719cea258fa"
      },
      "source": [
        "from google.colab import files\n",
        "uploaded = files.upload()"
      ],
      "execution_count": null,
      "outputs": [
        {
          "output_type": "display_data",
          "data": {
            "text/plain": [
              "<IPython.core.display.HTML object>"
            ],
            "text/html": [
              "\n",
              "     <input type=\"file\" id=\"files-a47644fa-ef7e-4c3b-86a4-d306c1184fac\" name=\"files[]\" multiple disabled\n",
              "        style=\"border:none\" />\n",
              "     <output id=\"result-a47644fa-ef7e-4c3b-86a4-d306c1184fac\">\n",
              "      Upload widget is only available when the cell has been executed in the\n",
              "      current browser session. Please rerun this cell to enable.\n",
              "      </output>\n",
              "      <script src=\"/nbextensions/google.colab/files.js\"></script> "
            ]
          },
          "metadata": {}
        },
        {
          "output_type": "stream",
          "name": "stdout",
          "text": [
            "Saving India -COVID-19 data_train.csv to India -COVID-19 data_train.csv\n"
          ]
        }
      ]
    },
    {
      "cell_type": "markdown",
      "source": [
        "Import the uploaded data as name 'df' using the function pd.read_csv(). If you are using other data then please change 'UK covid19 train_data.csv' as data file name."
      ],
      "metadata": {
        "id": "lvraXNoM2bRv"
      }
    },
    {
      "cell_type": "code",
      "metadata": {
        "id": "Leh_3zW8IoO1",
        "colab": {
          "base_uri": "https://localhost:8080/"
        },
        "outputId": "4d7dfd1b-2077-47de-a8fc-5b153387e53b"
      },
      "source": [
        "import pandas as pd\n",
        "import io\n",
        "df = pd.read_csv(io.BytesIO(uploaded['India -COVID-19 data_train.csv']))\n",
        "print(df.head())"
      ],
      "execution_count": null,
      "outputs": [
        {
          "output_type": "stream",
          "name": "stdout",
          "text": [
            "        Date  Confirmed\n",
            "0  01-Dec-21       9875\n",
            "1  02-Dec-21       9191\n",
            "2  03-Dec-21       9128\n",
            "3  04-Dec-21       8912\n",
            "4  05-Dec-21       8413\n"
          ]
        }
      ]
    },
    {
      "cell_type": "code",
      "metadata": {
        "colab": {
          "base_uri": "https://localhost:8080/",
          "height": 238
        },
        "id": "ptNH6vLN1h0g",
        "outputId": "71a309a1-ca97-47bd-c56f-12030c0a584d"
      },
      "source": [
        "# Month  is already in index of df otherwise change it usingthe following code\n",
        "# change the Month column as Index\n",
        "\n",
        "df1=df\n",
        "df1.Date=pd.to_datetime(df.Date)\n",
        "df1=df1.set_index(\"Date\")\n",
        "df1.head()"
      ],
      "execution_count": null,
      "outputs": [
        {
          "output_type": "execute_result",
          "data": {
            "text/plain": [
              "            Confirmed\n",
              "Date                 \n",
              "2021-12-01       9875\n",
              "2021-12-02       9191\n",
              "2021-12-03       9128\n",
              "2021-12-04       8912\n",
              "2021-12-05       8413"
            ],
            "text/html": [
              "\n",
              "  <div id=\"df-1e314433-6097-4c87-a81d-6c7fcfdf649b\">\n",
              "    <div class=\"colab-df-container\">\n",
              "      <div>\n",
              "<style scoped>\n",
              "    .dataframe tbody tr th:only-of-type {\n",
              "        vertical-align: middle;\n",
              "    }\n",
              "\n",
              "    .dataframe tbody tr th {\n",
              "        vertical-align: top;\n",
              "    }\n",
              "\n",
              "    .dataframe thead th {\n",
              "        text-align: right;\n",
              "    }\n",
              "</style>\n",
              "<table border=\"1\" class=\"dataframe\">\n",
              "  <thead>\n",
              "    <tr style=\"text-align: right;\">\n",
              "      <th></th>\n",
              "      <th>Confirmed</th>\n",
              "    </tr>\n",
              "    <tr>\n",
              "      <th>Date</th>\n",
              "      <th></th>\n",
              "    </tr>\n",
              "  </thead>\n",
              "  <tbody>\n",
              "    <tr>\n",
              "      <th>2021-12-01</th>\n",
              "      <td>9875</td>\n",
              "    </tr>\n",
              "    <tr>\n",
              "      <th>2021-12-02</th>\n",
              "      <td>9191</td>\n",
              "    </tr>\n",
              "    <tr>\n",
              "      <th>2021-12-03</th>\n",
              "      <td>9128</td>\n",
              "    </tr>\n",
              "    <tr>\n",
              "      <th>2021-12-04</th>\n",
              "      <td>8912</td>\n",
              "    </tr>\n",
              "    <tr>\n",
              "      <th>2021-12-05</th>\n",
              "      <td>8413</td>\n",
              "    </tr>\n",
              "  </tbody>\n",
              "</table>\n",
              "</div>\n",
              "      <button class=\"colab-df-convert\" onclick=\"convertToInteractive('df-1e314433-6097-4c87-a81d-6c7fcfdf649b')\"\n",
              "              title=\"Convert this dataframe to an interactive table.\"\n",
              "              style=\"display:none;\">\n",
              "        \n",
              "  <svg xmlns=\"http://www.w3.org/2000/svg\" height=\"24px\"viewBox=\"0 0 24 24\"\n",
              "       width=\"24px\">\n",
              "    <path d=\"M0 0h24v24H0V0z\" fill=\"none\"/>\n",
              "    <path d=\"M18.56 5.44l.94 2.06.94-2.06 2.06-.94-2.06-.94-.94-2.06-.94 2.06-2.06.94zm-11 1L8.5 8.5l.94-2.06 2.06-.94-2.06-.94L8.5 2.5l-.94 2.06-2.06.94zm10 10l.94 2.06.94-2.06 2.06-.94-2.06-.94-.94-2.06-.94 2.06-2.06.94z\"/><path d=\"M17.41 7.96l-1.37-1.37c-.4-.4-.92-.59-1.43-.59-.52 0-1.04.2-1.43.59L10.3 9.45l-7.72 7.72c-.78.78-.78 2.05 0 2.83L4 21.41c.39.39.9.59 1.41.59.51 0 1.02-.2 1.41-.59l7.78-7.78 2.81-2.81c.8-.78.8-2.07 0-2.86zM5.41 20L4 18.59l7.72-7.72 1.47 1.35L5.41 20z\"/>\n",
              "  </svg>\n",
              "      </button>\n",
              "      \n",
              "  <style>\n",
              "    .colab-df-container {\n",
              "      display:flex;\n",
              "      flex-wrap:wrap;\n",
              "      gap: 12px;\n",
              "    }\n",
              "\n",
              "    .colab-df-convert {\n",
              "      background-color: #E8F0FE;\n",
              "      border: none;\n",
              "      border-radius: 50%;\n",
              "      cursor: pointer;\n",
              "      display: none;\n",
              "      fill: #1967D2;\n",
              "      height: 32px;\n",
              "      padding: 0 0 0 0;\n",
              "      width: 32px;\n",
              "    }\n",
              "\n",
              "    .colab-df-convert:hover {\n",
              "      background-color: #E2EBFA;\n",
              "      box-shadow: 0px 1px 2px rgba(60, 64, 67, 0.3), 0px 1px 3px 1px rgba(60, 64, 67, 0.15);\n",
              "      fill: #174EA6;\n",
              "    }\n",
              "\n",
              "    [theme=dark] .colab-df-convert {\n",
              "      background-color: #3B4455;\n",
              "      fill: #D2E3FC;\n",
              "    }\n",
              "\n",
              "    [theme=dark] .colab-df-convert:hover {\n",
              "      background-color: #434B5C;\n",
              "      box-shadow: 0px 1px 3px 1px rgba(0, 0, 0, 0.15);\n",
              "      filter: drop-shadow(0px 1px 2px rgba(0, 0, 0, 0.3));\n",
              "      fill: #FFFFFF;\n",
              "    }\n",
              "  </style>\n",
              "\n",
              "      <script>\n",
              "        const buttonEl =\n",
              "          document.querySelector('#df-1e314433-6097-4c87-a81d-6c7fcfdf649b button.colab-df-convert');\n",
              "        buttonEl.style.display =\n",
              "          google.colab.kernel.accessAllowed ? 'block' : 'none';\n",
              "\n",
              "        async function convertToInteractive(key) {\n",
              "          const element = document.querySelector('#df-1e314433-6097-4c87-a81d-6c7fcfdf649b');\n",
              "          const dataTable =\n",
              "            await google.colab.kernel.invokeFunction('convertToInteractive',\n",
              "                                                     [key], {});\n",
              "          if (!dataTable) return;\n",
              "\n",
              "          const docLinkHtml = 'Like what you see? Visit the ' +\n",
              "            '<a target=\"_blank\" href=https://colab.research.google.com/notebooks/data_table.ipynb>data table notebook</a>'\n",
              "            + ' to learn more about interactive tables.';\n",
              "          element.innerHTML = '';\n",
              "          dataTable['output_type'] = 'display_data';\n",
              "          await google.colab.output.renderOutput(dataTable, element);\n",
              "          const docLink = document.createElement('div');\n",
              "          docLink.innerHTML = docLinkHtml;\n",
              "          element.appendChild(docLink);\n",
              "        }\n",
              "      </script>\n",
              "    </div>\n",
              "  </div>\n",
              "  "
            ]
          },
          "metadata": {},
          "execution_count": 12
        }
      ]
    },
    {
      "cell_type": "markdown",
      "source": [
        "Plot line graph for Daily cases using the code given below"
      ],
      "metadata": {
        "id": "hhdXAXUt2fbd"
      }
    },
    {
      "cell_type": "code",
      "metadata": {
        "id": "HYY0Lecg23D8",
        "colab": {
          "base_uri": "https://localhost:8080/",
          "height": 458
        },
        "outputId": "b632d30b-6e27-46ca-9574-5004b61e6d79"
      },
      "source": [
        "import matplotlib.pyplot as plt\n",
        "\n",
        "fig, ax = plt.subplots(figsize=(9, 7))\n",
        "ax.plot(df1.index.values, df1['Confirmed'])\n",
        "ax.set(xlabel=\"Date\",\n",
        "       ylabel=\"Cofirmed cases per day\",\n",
        "       title=\"Covid19 Cases\")\n",
        "\n",
        "plt.show()"
      ],
      "execution_count": null,
      "outputs": [
        {
          "output_type": "display_data",
          "data": {
            "text/plain": [
              "<Figure size 648x504 with 1 Axes>"
            ],
            "image/png": "[encoded data removed]"
          },
          "metadata": {
            "needs_background": "light"
          }
        }
      ]
    },
    {
      "cell_type": "markdown",
      "source": [
        "Draw ACF / PACF plot using the function accf() / pacf(). Choose the significant lag as the optimal time step which can be used for data pre-processing."
      ],
      "metadata": {
        "id": "Me7u2YdH20-J"
      }
    },
    {
      "cell_type": "code",
      "metadata": {
        "id": "vYdYInOZzhGk",
        "colab": {
          "base_uri": "https://localhost:8080/",
          "height": 545
        },
        "outputId": "a12adc24-1c1f-460d-d981-5a7fe8170835"
      },
      "source": [
        "## Auto correlation and Partial Auto correlation Plot\n",
        "from statsmodels.graphics.tsaplots import acf, pacf, plot_pacf, plot_acf\n",
        "from matplotlib import pyplot\n",
        "\n",
        "import numpy as np\n",
        "dat=np.array(df1['Confirmed'])\n",
        "\n",
        "plot_acf(dat)\n",
        "plot_pacf(dat)\n",
        "pyplot.show()"
      ],
      "execution_count": null,
      "outputs": [
        {
          "output_type": "display_data",
          "data": {
            "text/plain": [
              "<Figure size 432x288 with 1 Axes>"
            ],
            "image/png": "[encoded data removed]"
          },
          "metadata": {
            "needs_background": "light"
          }
        },
        {
          "output_type": "display_data",
          "data": {
            "text/plain": [
              "<Figure size 432x288 with 1 Axes>"
            ],
            "image/png": "[encoded data removed]"
          },
          "metadata": {
            "needs_background": "light"
          }
        }
      ]
    },
    {
      "cell_type": "markdown",
      "source": [
        "## Step2: Data pre-processing"
      ],
      "metadata": {
        "id": "oMEZF2R727uH"
      }
    },
    {
      "cell_type": "markdown",
      "source": [
        "We can divide the sequence into input (X) and output (y).\n",
        "Let {Xi, i=1, 2, 3, …, n} be the daily incident cases. Suppose, lag is three, then the fourth day count depends on previous 3 days (third, second and first) and fifth day count depends on fourth, third, and second day counts, and so on. Therefore, the data should be organized as follows:\n",
        "\n",
        "![image.png](data:image/png;base64,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)"
      ],
      "metadata": {
        "id": "s4zYpq6i28R_"
      }
    },
    {
      "cell_type": "markdown",
      "source": [
        "Define the function **prepare_data()** which convert the time series data into X and y."
      ],
      "metadata": {
        "id": "DEDHMjEi3EZd"
      }
    },
    {
      "cell_type": "code",
      "metadata": {
        "id": "oGI9z2kPJJx4"
      },
      "source": [
        "# preparing independent and dependent features\n",
        "def split_sequence(sequence, n_step):\n",
        "\tX, y = list(), list()\n",
        "\tfor i in range(len(sequence)):\n",
        "\t\t# find the end of this pattern\n",
        "\t\tend_ix = i + n_step\n",
        "\t\t# check if we are beyond the sequence\n",
        "\t\tif end_ix > len(sequence)-1:\n",
        "\t\t\tbreak\n",
        "\t\t# gather input and output parts of the pattern\n",
        "\t\tseq_x, seq_y = sequence[i:end_ix], sequence[end_ix]\n",
        "\t\tX.append(seq_x)\n",
        "\t\ty.append(seq_y)\n",
        "\treturn np.array(X), np.array(y)"
      ],
      "execution_count": null,
      "outputs": []
    },
    {
      "cell_type": "code",
      "metadata": {
        "id": "rDjGZujiJSqk"
      },
      "source": [
        "n_step=6\n",
        "# split into samples\n",
        "X, y = split_sequence(df['Confirmed'], n_step)"
      ],
      "execution_count": null,
      "outputs": []
    },
    {
      "cell_type": "code",
      "metadata": {
        "colab": {
          "base_uri": "https://localhost:8080/"
        },
        "id": "FDddWhM-Jum4",
        "outputId": "18d75e92-b0bf-459c-da41-a14b7361c379"
      },
      "source": [
        "# Summarize the data\n",
        "for i in range(len(X)):\n",
        "  print(X[i], y[i])"
      ],
      "execution_count": null,
      "outputs": [
        {
          "output_type": "stream",
          "name": "stdout",
          "text": [
            "[9875 9191 9128 8912 8413 6648] 8590\n",
            "[9191 9128 8912 8413 6648 8590] 9303\n",
            "[9128 8912 8413 6648 8590 9303] 8614\n",
            "[8912 8413 6648 8590 9303 8614] 7971\n",
            "[8413 6648 8590 9303 8614 7971] 7749\n",
            "[6648 8590 9303 8614 7971 7749] 7545\n",
            "[8590 9303 8614 7971 7749 7545] 5547\n",
            "[9303 8614 7971 7749 7545 5547] 7114\n",
            "[8614 7971 7749 7545 5547 7114] 7996\n",
            "[7971 7749 7545 5547 7114 7996] 7403\n",
            "[7749 7545 5547 7114 7996 7403] 7158\n",
            "[7545 5547 7114 7996 7403 7158] 7079\n",
            "[5547 7114 7996 7403 7158 7079] 6650\n",
            "[7114 7996 7403 7158 7079 6650] 5105\n",
            "[7996 7403 7158 7079 6650 5105] 6378\n",
            "[7403 7158 7079 6650 5105 6378] 7470\n",
            "[7158 7079 6650 5105 6378 7470] 6767\n",
            "[7079 6650 5105 6378 7470 6767] 7116\n",
            "[6650 5105 6378 7470 6767 7116] 7161\n",
            "[5105 6378 7470 6767 7116 7161] 6538\n",
            "[6378 7470 6767 7116 7161 6538] 6342\n",
            "[7470 6767 7116 7161 6538 6342] 9236\n",
            "[6767 7116 7161 6538 6342 9236] 13167\n",
            "[ 7116  7161  6538  6342  9236 13167] 16727\n",
            "[ 7161  6538  6342  9236 13167 16727] 22775\n",
            "[ 6538  6342  9236 13167 16727 22775] 27878\n",
            "[ 6342  9236 13167 16727 22775 27878] 33716\n",
            "[ 9236 13167 16727 22775 27878 33716] 37448\n",
            "[13167 16727 22775 27878 33716 37448] 58563\n",
            "[16727 22775 27878 33716 37448 58563] 91583\n",
            "[22775 27878 33716 37448 58563 91583] 117879\n",
            "[ 27878  33716  37448  58563  91583 117879] 142645\n",
            "[ 33716  37448  58563  91583 117879 142645] 160620\n",
            "[ 37448  58563  91583 117879 142645 160620] 181263\n",
            "[ 58563  91583 117879 142645 160620 181263] 169376\n",
            "[ 91583 117879 142645 160620 181263 169376] 197128\n",
            "[117879 142645 160620 181263 169376 197128] 248751\n",
            "[142645 160620 181263 169376 197128 248751] 251660\n",
            "[160620 181263 169376 197128 248751 251660] 269767\n",
            "[181263 169376 197128 248751 251660 269767] 267857\n",
            "[169376 197128 248751 251660 269767 267857] 258175\n",
            "[197128 248751 251660 269767 267857 258175] 237696\n",
            "[248751 251660 269767 267857 258175 237696] 283723\n",
            "[251660 269767 267857 258175 237696 283723] 316848\n",
            "[269767 267857 258175 237696 283723 316848] 347041\n",
            "[267857 258175 237696 283723 316848 347041] 336876\n",
            "[258175 237696 283723 316848 347041 336876] 333309\n",
            "[237696 283723 316848 347041 336876 333309] 305865\n",
            "[283723 316848 347041 336876 333309 305865] 252957\n",
            "[316848 347041 336876 333309 305865 252957] 288113\n",
            "[347041 336876 333309 305865 252957 288113] 285228\n",
            "[336876 333309 305865 252957 288113 285228] 249973\n",
            "[333309 305865 252957 288113 285228 249973] 235369\n",
            "[305865 252957 288113 285228 249973 235369] 235077\n",
            "[252957 288113 285228 249973 235369 235077] 209436\n",
            "[288113 285228 249973 235369 235077 209436] 165558\n",
            "[285228 249973 235369 235077 209436 165558] 161989\n",
            "[249973 235369 235077 209436 165558 161989] 173082\n",
            "[235369 235077 209436 165558 161989 173082] 148073\n",
            "[235077 209436 165558 161989 173082 148073] 128166\n",
            "[209436 165558 161989 173082 148073 128166] 107048\n",
            "[165558 161989 173082 148073 128166 107048] 84391\n",
            "[161989 173082 148073 128166 107048  84391] 66063\n",
            "[173082 148073 128166 107048  84391  66063] 71274\n",
            "[148073 128166 107048  84391  66063  71274] 66924\n",
            "[128166 107048  84391  66063  71274  66924] 58350\n"
          ]
        }
      ]
    },
    {
      "cell_type": "markdown",
      "source": [
        "## Step 3: Reorganize the data as in the format of input to the model"
      ],
      "metadata": {
        "id": "_dvk7ufy7A5X"
      }
    },
    {
      "cell_type": "markdown",
      "source": [
        "CNN LSTM model has one more argument called ‘subsequence’. Split the lag into number of sequence and sub steps. And the sub-steps are multiple of the kernel size in the convolutional layer. For example, lag is six days then split the six into three subsequences and two sub-steps (3*2=6) and the kernel size of the convolutional layer must be two. The input shape of the CNN LSTM model is [samples, subsequences, sub-steps, features]"
      ],
      "metadata": {
        "id": "Ow3LaprT7Buw"
      }
    },
    {
      "cell_type": "code",
      "metadata": {
        "colab": {
          "base_uri": "https://localhost:8080/"
        },
        "id": "mx0bIekuJ_vu",
        "outputId": "c4797a19-7aef-458c-a196-c5f0e963309c"
      },
      "source": [
        "# reshape from [samples, timesteps] into [samples, timesteps, features]\n",
        "n_features = 1\n",
        "n_seq=3\n",
        "n_steps=2\n",
        "X = X.reshape((X.shape[0],  n_seq, n_steps, n_features))\n",
        "print(X.shape)"
      ],
      "execution_count": null,
      "outputs": [
        {
          "output_type": "stream",
          "name": "stdout",
          "text": [
            "(66, 3, 2, 1)\n"
          ]
        }
      ]
    },
    {
      "cell_type": "markdown",
      "source": [
        "## Step 4: Model Buiilding"
      ],
      "metadata": {
        "id": "Wi6yDfve7Rca"
      }
    },
    {
      "cell_type": "markdown",
      "source": [
        "A CNN model can be used in a hybrid model with an LSTM backend where the CNN is used to interpret subsequences of input that together are provided as a sequence to an LSTM model to interpret. This hybrid model is called a CNN-LSTM.\n",
        "\n",
        "Our CNN-LSTM model has one 1d-CNN layer followed by max-pooling layer and flatten layer.  Then two LSTM layers with 500 neurons followed by eight dense layers\n",
        "\n",
        "However, the dense layers can be adjusted based on the model perfomance."
      ],
      "metadata": {
        "id": "vATHiWAs7SNB"
      }
    },
    {
      "cell_type": "code",
      "metadata": {
        "id": "xgB95A7AKMEq"
      },
      "source": [
        "from keras.models import Sequential\n",
        "from keras.layers import Dense\n",
        "from keras.layers import Flatten, TimeDistributed\n",
        "from keras.layers.convolutional import Conv1D\n",
        "from keras.layers.convolutional import MaxPooling1D\n",
        "\n",
        "# define model\n",
        "model = Sequential()\n",
        "model.add(TimeDistributed(Conv1D(filters=64, kernel_size=1, activation='relu',kernel_initializer='he_uniform',kernel_regularizer =keras.regularizers.l2( l=0.01)), input_shape=(None, n_steps, n_features)))\n",
        "model.add(TimeDistributed(MaxPooling1D(pool_size=2)))\n",
        "model.add(TimeDistributed(Flatten()))\n",
        "\n",
        "\n",
        "model.add(LSTM(1000, activation='relu',return_sequences=True,kernel_initializer='he_uniform',kernel_regularizer =keras.regularizers.l2( l=0.01)))\n",
        "model.add(LSTM(500, activation='relu',kernel_initializer='he_uniform',kernel_regularizer =keras.regularizers.l2( l=0.01)))\n",
        "\n",
        "#model.add(Dense(5000, activation='relu',kernel_initializer='he_uniform',kernel_regularizer =keras.regularizers.l2( l=0.01)))\n",
        "#model.add(Dense(3000, activation='relu',kernel_initializer='he_uniform',kernel_regularizer =keras.regularizers.l2( l=0.01)))\n",
        "#model.add(Dense(2000, activation='relu',kernel_initializer='he_uniform',kernel_regularizer =keras.regularizers.l2( l=0.01)))\n",
        "model.add(Dense(1000, activation='relu',kernel_initializer='he_uniform',kernel_regularizer =keras.regularizers.l2( l=0.01)))\n",
        "model.add(Dense(500, activation='relu',kernel_initializer='he_uniform',kernel_regularizer =keras.regularizers.l2( l=0.01)))\n",
        "model.add(Dense(300, activation='relu',kernel_initializer='he_uniform',kernel_regularizer =keras.regularizers.l2( l=0.01)))\n",
        "model.add(Dense(200, activation='relu',kernel_initializer='he_uniform',kernel_regularizer =keras.regularizers.l2( l=0.01)))\n",
        "model.add(Dense(100, activation='relu',kernel_initializer='he_uniform',kernel_regularizer =keras.regularizers.l2( l=0.01)))\n",
        "model.add(Dense(1))\n"
      ],
      "execution_count": null,
      "outputs": []
    },
    {
      "cell_type": "code",
      "metadata": {
        "colab": {
          "base_uri": "https://localhost:8080/"
        },
        "id": "crSMTjNK8UD6",
        "outputId": "7bd90bfb-0c71-432c-b8da-92b854945f4c"
      },
      "source": [
        "model.compile(optimizer='adam', loss='mse')\n",
        "\n",
        "model.summary()"
      ],
      "execution_count": null,
      "outputs": [
        {
          "output_type": "stream",
          "name": "stdout",
          "text": [
            "Model: \"sequential\"\n",
            "_________________________________________________________________\n",
            " Layer (type)                Output Shape              Param #   \n",
            "=================================================================\n",
            " time_distributed (TimeDistr  (None, None, 2, 64)      128       \n",
            " ibuted)                                                         \n",
            "                                                                 \n",
            " time_distributed_1 (TimeDis  (None, None, 1, 64)      0         \n",
            " tributed)                                                       \n",
            "                                                                 \n",
            " time_distributed_2 (TimeDis  (None, None, 64)         0         \n",
            " tributed)                                                       \n",
            "                                                                 \n",
            " lstm (LSTM)                 (None, None, 1000)        4260000   \n",
            "                                                                 \n",
            " lstm_1 (LSTM)               (None, 500)               3002000   \n",
            "                                                                 \n",
            " dense (Dense)               (None, 1000)              501000    \n",
            "                                                                 \n",
            " dense_1 (Dense)             (None, 500)               500500    \n",
            "                                                                 \n",
            " dense_2 (Dense)             (None, 300)               150300    \n",
            "                                                                 \n",
            " dense_3 (Dense)             (None, 200)               60200     \n",
            "                                                                 \n",
            " dense_4 (Dense)             (None, 100)               20100     \n",
            "                                                                 \n",
            " dense_5 (Dense)             (None, 1)                 101       \n",
            "                                                                 \n",
            "=================================================================\n",
            "Total params: 8,494,329\n",
            "Trainable params: 8,494,329\n",
            "Non-trainable params: 0\n",
            "_________________________________________________________________\n"
          ]
        }
      ]
    },
    {
      "cell_type": "markdown",
      "source": [
        "**Call backs**\n",
        "\n",
        "**reuce lr (Learning Rate)**-if no  improvement seeing for the patience the learning rate is reuce.\n",
        "\n",
        "**factor** - by which the learning eate will be reduce.\n",
        "\n",
        "**patience** - # of epochs with no improvement after that the learning rate will reduce\n",
        "\n",
        "**verbose** - contain binary 0 quit 1 update message.\n",
        "\n",
        "**mode** - auto min max, \n",
        "    **min** - LR will reduce when quantity \n",
        "monitor has stop decresing;\n",
        "    **max** -  LR will reduce when quantity monitor has stop incresing;\n",
        "    **auto** - the direction is automatically infere from the nameof monitor. "
      ],
      "metadata": {
        "id": "tBf-KteU7xfF"
      }
    },
    {
      "cell_type": "code",
      "metadata": {
        "id": "btQTbmJFK-zz"
      },
      "source": [
        "# Call backs\n",
        "# reuce lr (Learning Rate)-if no  improvement seeing for the patience the learning rate is reuce\n",
        "# factor - by which the learning eate will be reduce\n",
        "# patience - # of epochs with no improvement after that the learning rate will reduce\n",
        "# verbose - contain binary 0 quit 1 update msg\n",
        "# mode - auto min max, min - LR will reduce when quantity monitor has stop decresing\n",
        "#         max -  LR will reduce when quantity monitor has stop incresing\n",
        "#         auto - the direction is automatically infere from the nameof monitor\n",
        "# Early stopping  \n",
        "\n",
        "from keras.callbacks import ModelCheckpoint\n",
        "from keras.callbacks import ReduceLROnPlateau\n",
        "from keras.callbacks import EarlyStopping\n",
        "\n",
        "checkpoint=ModelCheckpoint(filepath='best_weights.hdf11', \n",
        "                           save_best_only=True, save_weights_only=True)\n",
        "lr_reduce=ReduceLROnPlateau(monitor='loss',factor=0.3,\n",
        "                            patience=3,  verbose=2, mode='max')\n",
        "early_stop=EarlyStopping(monitor='loss',min_delta=0.1, patience=3, mode='min')"
      ],
      "execution_count": null,
      "outputs": []
    },
    {
      "cell_type": "markdown",
      "source": [
        "## Step 5: Fitting and evaluating the model\n",
        "\n",
        "Fit a model using the train data and evaluate the performance. The Mean Squared Error (MSE) / Mean Absolute Error (MAE) can be used as the metrics to evaluate model performance of both train and test data. "
      ],
      "metadata": {
        "id": "B0BEGgUE8BzR"
      }
    },
    {
      "cell_type": "code",
      "metadata": {
        "id": "hiIzkfpycwH1",
        "colab": {
          "base_uri": "https://localhost:8080/"
        },
        "outputId": "06d86219-6d51-4497-a428-3776f7edfac1"
      },
      "source": [
        "# fit model\n",
        "\n",
        "model.fit(X, y, epochs=100,batch_size=16, verbose=1,callbacks=[checkpoint,lr_reduce])"
      ],
      "execution_count": null,
      "outputs": [
        {
          "output_type": "stream",
          "name": "stdout",
          "text": [
            "Epoch 1/100\n",
            "5/5 [==============================] - ETA: 0s - loss: 129572724736.0000WARNING:tensorflow:Can save best model only with val_loss available, skipping.\n",
            "5/5 [==============================] - 4s 189ms/step - loss: 129572724736.0000 - lr: 0.0010\n",
            "Epoch 2/100\n",
            "5/5 [==============================] - ETA: 0s - loss: 29673230336.0000WARNING:tensorflow:Can save best model only with val_loss available, skipping.\n",
            "5/5 [==============================] - 1s 191ms/step - loss: 29673230336.0000 - lr: 0.0010\n",
            "Epoch 3/100\n",
            "5/5 [==============================] - ETA: 0s - loss: 7072284672.0000WARNING:tensorflow:Can save best model only with val_loss available, skipping.\n",
            "5/5 [==============================] - 1s 191ms/step - loss: 7072284672.0000 - lr: 0.0010\n",
            "Epoch 4/100\n",
            "5/5 [==============================] - ETA: 0s - loss: 2197006336.0000WARNING:tensorflow:Can save best model only with val_loss available, skipping.\n",
            "\n",
            "Epoch 4: ReduceLROnPlateau reducing learning rate to 0.0003000000142492354.\n",
            "5/5 [==============================] - 1s 188ms/step - loss: 2197006336.0000 - lr: 0.0010\n",
            "Epoch 5/100\n",
            "5/5 [==============================] - ETA: 0s - loss: 1429788544.0000WARNING:tensorflow:Can save best model only with val_loss available, skipping.\n",
            "5/5 [==============================] - 1s 183ms/step - loss: 1429788544.0000 - lr: 3.0000e-04\n",
            "Epoch 6/100\n",
            "5/5 [==============================] - ETA: 0s - loss: 1399016576.0000WARNING:tensorflow:Can save best model only with val_loss available, skipping.\n",
            "5/5 [==============================] - 1s 186ms/step - loss: 1399016576.0000 - lr: 3.0000e-04\n",
            "Epoch 7/100\n",
            "5/5 [==============================] - ETA: 0s - loss: 1476014080.0000WARNING:tensorflow:Can save best model only with val_loss available, skipping.\n",
            "\n",
            "Epoch 7: ReduceLROnPlateau reducing learning rate to 9.000000427477062e-05.\n",
            "5/5 [==============================] - 1s 184ms/step - loss: 1476014080.0000 - lr: 3.0000e-04\n",
            "Epoch 8/100\n",
            "5/5 [==============================] - ETA: 0s - loss: 758659264.0000WARNING:tensorflow:Can save best model only with val_loss available, skipping.\n",
            "5/5 [==============================] - 1s 185ms/step - loss: 758659264.0000 - lr: 9.0000e-05\n",
            "Epoch 9/100\n",
            "5/5 [==============================] - ETA: 0s - loss: 667491264.0000WARNING:tensorflow:Can save best model only with val_loss available, skipping.\n",
            "5/5 [==============================] - 1s 185ms/step - loss: 667491264.0000 - lr: 9.0000e-05\n",
            "Epoch 10/100\n",
            "5/5 [==============================] - ETA: 0s - loss: 719122112.0000WARNING:tensorflow:Can save best model only with val_loss available, skipping.\n",
            "\n",
            "Epoch 10: ReduceLROnPlateau reducing learning rate to 2.700000040931627e-05.\n",
            "5/5 [==============================] - 1s 185ms/step - loss: 719122112.0000 - lr: 9.0000e-05\n",
            "Epoch 11/100\n",
            "5/5 [==============================] - ETA: 0s - loss: 986132928.0000WARNING:tensorflow:Can save best model only with val_loss available, skipping.\n",
            "5/5 [==============================] - 1s 182ms/step - loss: 986132928.0000 - lr: 2.7000e-05\n",
            "Epoch 12/100\n",
            "5/5 [==============================] - ETA: 0s - loss: 756076672.0000WARNING:tensorflow:Can save best model only with val_loss available, skipping.\n",
            "5/5 [==============================] - 1s 183ms/step - loss: 756076672.0000 - lr: 2.7000e-05\n",
            "Epoch 13/100\n",
            "5/5 [==============================] - ETA: 0s - loss: 580530944.0000WARNING:tensorflow:Can save best model only with val_loss available, skipping.\n",
            "\n",
            "Epoch 13: ReduceLROnPlateau reducing learning rate to 8.100000013655517e-06.\n",
            "5/5 [==============================] - 1s 183ms/step - loss: 580530944.0000 - lr: 2.7000e-05\n",
            "Epoch 14/100\n",
            "5/5 [==============================] - ETA: 0s - loss: 713499648.0000WARNING:tensorflow:Can save best model only with val_loss available, skipping.\n",
            "5/5 [==============================] - 1s 186ms/step - loss: 713499648.0000 - lr: 8.1000e-06\n",
            "Epoch 15/100\n",
            "5/5 [==============================] - ETA: 0s - loss: 664350720.0000WARNING:tensorflow:Can save best model only with val_loss available, skipping.\n",
            "5/5 [==============================] - 1s 186ms/step - loss: 664350720.0000 - lr: 8.1000e-06\n",
            "Epoch 16/100\n",
            "5/5 [==============================] - ETA: 0s - loss: 648513216.0000WARNING:tensorflow:Can save best model only with val_loss available, skipping.\n",
            "\n",
            "Epoch 16: ReduceLROnPlateau reducing learning rate to 2.429999949526973e-06.\n",
            "5/5 [==============================] - 1s 183ms/step - loss: 648513216.0000 - lr: 8.1000e-06\n",
            "Epoch 17/100\n",
            "5/5 [==============================] - ETA: 0s - loss: 630890496.0000WARNING:tensorflow:Can save best model only with val_loss available, skipping.\n",
            "5/5 [==============================] - 1s 183ms/step - loss: 630890496.0000 - lr: 2.4300e-06\n",
            "Epoch 18/100\n",
            "5/5 [==============================] - ETA: 0s - loss: 623283520.0000WARNING:tensorflow:Can save best model only with val_loss available, skipping.\n",
            "5/5 [==============================] - 1s 181ms/step - loss: 623283520.0000 - lr: 2.4300e-06\n",
            "Epoch 19/100\n",
            "5/5 [==============================] - ETA: 0s - loss: 615079360.0000WARNING:tensorflow:Can save best model only with val_loss available, skipping.\n",
            "\n",
            "Epoch 19: ReduceLROnPlateau reducing learning rate to 7.289999985005124e-07.\n",
            "5/5 [==============================] - 1s 190ms/step - loss: 615079360.0000 - lr: 2.4300e-06\n",
            "Epoch 20/100\n",
            "5/5 [==============================] - ETA: 0s - loss: 606517440.0000WARNING:tensorflow:Can save best model only with val_loss available, skipping.\n",
            "5/5 [==============================] - 1s 179ms/step - loss: 606517440.0000 - lr: 7.2900e-07\n",
            "Epoch 21/100\n",
            "5/5 [==============================] - ETA: 0s - loss: 603633024.0000WARNING:tensorflow:Can save best model only with val_loss available, skipping.\n",
            "5/5 [==============================] - 1s 181ms/step - loss: 603633024.0000 - lr: 7.2900e-07\n",
            "Epoch 22/100\n",
            "5/5 [==============================] - ETA: 0s - loss: 601434432.0000WARNING:tensorflow:Can save best model only with val_loss available, skipping.\n",
            "\n",
            "Epoch 22: ReduceLROnPlateau reducing learning rate to 2.1870000637136398e-07.\n",
            "5/5 [==============================] - 1s 183ms/step - loss: 601434432.0000 - lr: 7.2900e-07\n",
            "Epoch 23/100\n",
            "5/5 [==============================] - ETA: 0s - loss: 599001024.0000WARNING:tensorflow:Can save best model only with val_loss available, skipping.\n",
            "5/5 [==============================] - 1s 184ms/step - loss: 599001024.0000 - lr: 2.1870e-07\n",
            "Epoch 24/100\n",
            "5/5 [==============================] - ETA: 0s - loss: 598613888.0000WARNING:tensorflow:Can save best model only with val_loss available, skipping.\n",
            "5/5 [==============================] - 1s 182ms/step - loss: 598613888.0000 - lr: 2.1870e-07\n",
            "Epoch 25/100\n",
            "5/5 [==============================] - ETA: 0s - loss: 598133568.0000WARNING:tensorflow:Can save best model only with val_loss available, skipping.\n",
            "\n",
            "Epoch 25: ReduceLROnPlateau reducing learning rate to 6.561000276406048e-08.\n",
            "5/5 [==============================] - 1s 186ms/step - loss: 598133568.0000 - lr: 2.1870e-07\n",
            "Epoch 26/100\n",
            "5/5 [==============================] - ETA: 0s - loss: 597779712.0000WARNING:tensorflow:Can save best model only with val_loss available, skipping.\n",
            "5/5 [==============================] - 1s 183ms/step - loss: 597779712.0000 - lr: 6.5610e-08\n",
            "Epoch 27/100\n",
            "5/5 [==============================] - ETA: 0s - loss: 597703680.0000WARNING:tensorflow:Can save best model only with val_loss available, skipping.\n",
            "5/5 [==============================] - 1s 184ms/step - loss: 597703680.0000 - lr: 6.5610e-08\n",
            "Epoch 28/100\n",
            "5/5 [==============================] - ETA: 0s - loss: 597554752.0000WARNING:tensorflow:Can save best model only with val_loss available, skipping.\n",
            "\n",
            "Epoch 28: ReduceLROnPlateau reducing learning rate to 1.9683000829218145e-08.\n",
            "5/5 [==============================] - 1s 192ms/step - loss: 597554752.0000 - lr: 6.5610e-08\n",
            "Epoch 29/100\n",
            "5/5 [==============================] - ETA: 0s - loss: 597477056.0000WARNING:tensorflow:Can save best model only with val_loss available, skipping.\n",
            "5/5 [==============================] - 1s 185ms/step - loss: 597477056.0000 - lr: 1.9683e-08\n",
            "Epoch 30/100\n",
            "5/5 [==============================] - ETA: 0s - loss: 597413056.0000WARNING:tensorflow:Can save best model only with val_loss available, skipping.\n",
            "5/5 [==============================] - 1s 182ms/step - loss: 597413056.0000 - lr: 1.9683e-08\n",
            "Epoch 31/100\n",
            "5/5 [==============================] - ETA: 0s - loss: 597378176.0000WARNING:tensorflow:Can save best model only with val_loss available, skipping.\n",
            "\n",
            "Epoch 31: ReduceLROnPlateau reducing learning rate to 5.904900035602622e-09.\n",
            "5/5 [==============================] - 1s 184ms/step - loss: 597378176.0000 - lr: 1.9683e-08\n",
            "Epoch 32/100\n",
            "5/5 [==============================] - ETA: 0s - loss: 597336320.0000WARNING:tensorflow:Can save best model only with val_loss available, skipping.\n",
            "5/5 [==============================] - 1s 182ms/step - loss: 597336320.0000 - lr: 5.9049e-09\n",
            "Epoch 33/100\n",
            "5/5 [==============================] - ETA: 0s - loss: 597327040.0000WARNING:tensorflow:Can save best model only with val_loss available, skipping.\n",
            "5/5 [==============================] - 1s 183ms/step - loss: 597327040.0000 - lr: 5.9049e-09\n",
            "Epoch 34/100\n",
            "5/5 [==============================] - ETA: 0s - loss: 597320512.0000WARNING:tensorflow:Can save best model only with val_loss available, skipping.\n",
            "\n",
            "Epoch 34: ReduceLROnPlateau reducing learning rate to 1.7714700373261393e-09.\n",
            "5/5 [==============================] - 1s 187ms/step - loss: 597320512.0000 - lr: 5.9049e-09\n",
            "Epoch 35/100\n",
            "5/5 [==============================] - ETA: 0s - loss: 597317248.0000WARNING:tensorflow:Can save best model only with val_loss available, skipping.\n",
            "5/5 [==============================] - 1s 187ms/step - loss: 597317248.0000 - lr: 1.7715e-09\n",
            "Epoch 36/100\n",
            "5/5 [==============================] - ETA: 0s - loss: 597317184.0000WARNING:tensorflow:Can save best model only with val_loss available, skipping.\n",
            "5/5 [==============================] - 1s 184ms/step - loss: 597317184.0000 - lr: 1.7715e-09\n",
            "Epoch 37/100\n",
            "5/5 [==============================] - ETA: 0s - loss: 597316480.0000WARNING:tensorflow:Can save best model only with val_loss available, skipping.\n",
            "\n",
            "Epoch 37: ReduceLROnPlateau reducing learning rate to 5.314410245205181e-10.\n",
            "5/5 [==============================] - 1s 191ms/step - loss: 597316480.0000 - lr: 1.7715e-09\n",
            "Epoch 38/100\n",
            "5/5 [==============================] - ETA: 0s - loss: 597315904.0000WARNING:tensorflow:Can save best model only with val_loss available, skipping.\n",
            "5/5 [==============================] - 1s 182ms/step - loss: 597315904.0000 - lr: 5.3144e-10\n",
            "Epoch 39/100\n",
            "5/5 [==============================] - ETA: 0s - loss: 597316352.0000WARNING:tensorflow:Can save best model only with val_loss available, skipping.\n",
            "5/5 [==============================] - 1s 188ms/step - loss: 597316352.0000 - lr: 5.3144e-10\n",
            "Epoch 40/100\n",
            "5/5 [==============================] - ETA: 0s - loss: 597315648.0000WARNING:tensorflow:Can save best model only with val_loss available, skipping.\n",
            "\n",
            "Epoch 40: ReduceLROnPlateau reducing learning rate to 1.5943230069481729e-10.\n",
            "5/5 [==============================] - 1s 179ms/step - loss: 597315648.0000 - lr: 5.3144e-10\n",
            "Epoch 41/100\n",
            "5/5 [==============================] - ETA: 0s - loss: 597315520.0000WARNING:tensorflow:Can save best model only with val_loss available, skipping.\n",
            "5/5 [==============================] - 1s 183ms/step - loss: 597315520.0000 - lr: 1.5943e-10\n",
            "Epoch 42/100\n",
            "5/5 [==============================] - ETA: 0s - loss: 597315328.0000WARNING:tensorflow:Can save best model only with val_loss available, skipping.\n",
            "5/5 [==============================] - 1s 183ms/step - loss: 597315328.0000 - lr: 1.5943e-10\n",
            "Epoch 43/100\n",
            "5/5 [==============================] - ETA: 0s - loss: 597315648.0000WARNING:tensorflow:Can save best model only with val_loss available, skipping.\n",
            "\n",
            "Epoch 43: ReduceLROnPlateau reducing learning rate to 4.7829690208445185e-11.\n",
            "5/5 [==============================] - 1s 192ms/step - loss: 597315648.0000 - lr: 1.5943e-10\n",
            "Epoch 44/100\n",
            "5/5 [==============================] - ETA: 0s - loss: 597315712.0000WARNING:tensorflow:Can save best model only with val_loss available, skipping.\n",
            "5/5 [==============================] - 1s 184ms/step - loss: 597315712.0000 - lr: 4.7830e-11\n",
            "Epoch 45/100\n",
            "5/5 [==============================] - ETA: 0s - loss: 597315648.0000WARNING:tensorflow:Can save best model only with val_loss available, skipping.\n",
            "5/5 [==============================] - 1s 187ms/step - loss: 597315648.0000 - lr: 4.7830e-11\n",
            "Epoch 46/100\n",
            "5/5 [==============================] - ETA: 0s - loss: 597315968.0000WARNING:tensorflow:Can save best model only with val_loss available, skipping.\n",
            "\n",
            "Epoch 46: ReduceLROnPlateau reducing learning rate to 1.434890747886719e-11.\n",
            "5/5 [==============================] - 1s 188ms/step - loss: 597315968.0000 - lr: 4.7830e-11\n",
            "Epoch 47/100\n",
            "5/5 [==============================] - ETA: 0s - loss: 597315712.0000WARNING:tensorflow:Can save best model only with val_loss available, skipping.\n",
            "5/5 [==============================] - 1s 188ms/step - loss: 597315712.0000 - lr: 1.4349e-11\n",
            "Epoch 48/100\n",
            "5/5 [==============================] - ETA: 0s - loss: 597315904.0000WARNING:tensorflow:Can save best model only with val_loss available, skipping.\n",
            "5/5 [==============================] - 1s 193ms/step - loss: 597315904.0000 - lr: 1.4349e-11\n",
            "Epoch 49/100\n",
            "5/5 [==============================] - ETA: 0s - loss: 597315840.0000WARNING:tensorflow:Can save best model only with val_loss available, skipping.\n",
            "\n",
            "Epoch 49: ReduceLROnPlateau reducing learning rate to 4.304672243660157e-12.\n",
            "5/5 [==============================] - 1s 190ms/step - loss: 597315840.0000 - lr: 1.4349e-11\n",
            "Epoch 50/100\n",
            "5/5 [==============================] - ETA: 0s - loss: 597315904.0000WARNING:tensorflow:Can save best model only with val_loss available, skipping.\n",
            "5/5 [==============================] - 1s 190ms/step - loss: 597315904.0000 - lr: 4.3047e-12\n",
            "Epoch 51/100\n",
            "5/5 [==============================] - ETA: 0s - loss: 597316032.0000WARNING:tensorflow:Can save best model only with val_loss available, skipping.\n",
            "5/5 [==============================] - 1s 191ms/step - loss: 597316032.0000 - lr: 4.3047e-12\n",
            "Epoch 52/100\n",
            "5/5 [==============================] - ETA: 0s - loss: 597315904.0000WARNING:tensorflow:Can save best model only with val_loss available, skipping.\n",
            "\n",
            "Epoch 52: ReduceLROnPlateau reducing learning rate to 1.2914016210563428e-12.\n",
            "5/5 [==============================] - 1s 183ms/step - loss: 597315904.0000 - lr: 4.3047e-12\n",
            "Epoch 53/100\n",
            "5/5 [==============================] - ETA: 0s - loss: 597315776.0000WARNING:tensorflow:Can save best model only with val_loss available, skipping.\n",
            "5/5 [==============================] - 1s 190ms/step - loss: 597315776.0000 - lr: 1.2914e-12\n",
            "Epoch 54/100\n",
            "5/5 [==============================] - ETA: 0s - loss: 597315840.0000WARNING:tensorflow:Can save best model only with val_loss available, skipping.\n",
            "5/5 [==============================] - 1s 185ms/step - loss: 597315840.0000 - lr: 1.2914e-12\n",
            "Epoch 55/100\n",
            "5/5 [==============================] - ETA: 0s - loss: 597315904.0000WARNING:tensorflow:Can save best model only with val_loss available, skipping.\n",
            "\n",
            "Epoch 55: ReduceLROnPlateau reducing learning rate to 3.874204993273289e-13.\n",
            "5/5 [==============================] - 1s 193ms/step - loss: 597315904.0000 - lr: 1.2914e-12\n",
            "Epoch 56/100\n",
            "5/5 [==============================] - ETA: 0s - loss: 597315776.0000WARNING:tensorflow:Can save best model only with val_loss available, skipping.\n",
            "5/5 [==============================] - 1s 191ms/step - loss: 597315776.0000 - lr: 3.8742e-13\n",
            "Epoch 57/100\n",
            "5/5 [==============================] - ETA: 0s - loss: 597315776.0000WARNING:tensorflow:Can save best model only with val_loss available, skipping.\n",
            "5/5 [==============================] - 1s 183ms/step - loss: 597315776.0000 - lr: 3.8742e-13\n",
            "Epoch 58/100\n",
            "5/5 [==============================] - ETA: 0s - loss: 597315904.0000WARNING:tensorflow:Can save best model only with val_loss available, skipping.\n",
            "\n",
            "Epoch 58: ReduceLROnPlateau reducing learning rate to 1.162261530508052e-13.\n",
            "5/5 [==============================] - 1s 194ms/step - loss: 597315904.0000 - lr: 3.8742e-13\n",
            "Epoch 59/100\n",
            "5/5 [==============================] - ETA: 0s - loss: 597315904.0000WARNING:tensorflow:Can save best model only with val_loss available, skipping.\n",
            "5/5 [==============================] - 1s 190ms/step - loss: 597315904.0000 - lr: 1.1623e-13\n",
            "Epoch 60/100\n",
            "5/5 [==============================] - ETA: 0s - loss: 597315840.0000WARNING:tensorflow:Can save best model only with val_loss available, skipping.\n",
            "5/5 [==============================] - 1s 195ms/step - loss: 597315840.0000 - lr: 1.1623e-13\n",
            "Epoch 61/100\n",
            "5/5 [==============================] - ETA: 0s - loss: 597315840.0000WARNING:tensorflow:Can save best model only with val_loss available, skipping.\n",
            "\n",
            "Epoch 61: ReduceLROnPlateau reducing learning rate to 3.4867844288938296e-14.\n",
            "5/5 [==============================] - 1s 190ms/step - loss: 597315840.0000 - lr: 1.1623e-13\n",
            "Epoch 62/100\n",
            "5/5 [==============================] - ETA: 0s - loss: 597315968.0000WARNING:tensorflow:Can save best model only with val_loss available, skipping.\n",
            "5/5 [==============================] - 1s 186ms/step - loss: 597315968.0000 - lr: 3.4868e-14\n",
            "Epoch 63/100\n",
            "5/5 [==============================] - ETA: 0s - loss: 597315904.0000WARNING:tensorflow:Can save best model only with val_loss available, skipping.\n",
            "5/5 [==============================] - 1s 182ms/step - loss: 597315904.0000 - lr: 3.4868e-14\n",
            "Epoch 64/100\n",
            "5/5 [==============================] - ETA: 0s - loss: 597315904.0000WARNING:tensorflow:Can save best model only with val_loss available, skipping.\n",
            "\n",
            "Epoch 64: ReduceLROnPlateau reducing learning rate to 1.0460353083393582e-14.\n",
            "5/5 [==============================] - 1s 193ms/step - loss: 597315904.0000 - lr: 3.4868e-14\n",
            "Epoch 65/100\n",
            "5/5 [==============================] - ETA: 0s - loss: 597315904.0000WARNING:tensorflow:Can save best model only with val_loss available, skipping.\n",
            "5/5 [==============================] - 1s 182ms/step - loss: 597315904.0000 - lr: 1.0460e-14\n",
            "Epoch 66/100\n",
            "5/5 [==============================] - ETA: 0s - loss: 597315840.0000WARNING:tensorflow:Can save best model only with val_loss available, skipping.\n",
            "5/5 [==============================] - 1s 191ms/step - loss: 597315840.0000 - lr: 1.0460e-14\n",
            "Epoch 67/100\n",
            "5/5 [==============================] - ETA: 0s - loss: 597315904.0000WARNING:tensorflow:Can save best model only with val_loss available, skipping.\n",
            "\n",
            "Epoch 67: ReduceLROnPlateau reducing learning rate to 3.138105874196098e-15.\n",
            "5/5 [==============================] - 1s 188ms/step - loss: 597315904.0000 - lr: 1.0460e-14\n",
            "Epoch 68/100\n",
            "5/5 [==============================] - ETA: 0s - loss: 597315840.0000WARNING:tensorflow:Can save best model only with val_loss available, skipping.\n",
            "5/5 [==============================] - 1s 176ms/step - loss: 597315840.0000 - lr: 3.1381e-15\n",
            "Epoch 69/100\n",
            "5/5 [==============================] - ETA: 0s - loss: 597315776.0000WARNING:tensorflow:Can save best model only with val_loss available, skipping.\n",
            "5/5 [==============================] - 1s 186ms/step - loss: 597315776.0000 - lr: 3.1381e-15\n",
            "Epoch 70/100\n",
            "5/5 [==============================] - ETA: 0s - loss: 597315776.0000WARNING:tensorflow:Can save best model only with val_loss available, skipping.\n",
            "\n",
            "Epoch 70: ReduceLROnPlateau reducing learning rate to 9.414317622588293e-16.\n",
            "5/5 [==============================] - 1s 183ms/step - loss: 597315776.0000 - lr: 3.1381e-15\n",
            "Epoch 71/100\n",
            "5/5 [==============================] - ETA: 0s - loss: 597315776.0000WARNING:tensorflow:Can save best model only with val_loss available, skipping.\n",
            "5/5 [==============================] - 1s 188ms/step - loss: 597315776.0000 - lr: 9.4143e-16\n",
            "Epoch 72/100\n",
            "5/5 [==============================] - ETA: 0s - loss: 597315968.0000WARNING:tensorflow:Can save best model only with val_loss available, skipping.\n",
            "5/5 [==============================] - 1s 191ms/step - loss: 597315968.0000 - lr: 9.4143e-16\n",
            "Epoch 73/100\n",
            "5/5 [==============================] - ETA: 0s - loss: 597315840.0000WARNING:tensorflow:Can save best model only with val_loss available, skipping.\n",
            "\n",
            "Epoch 73: ReduceLROnPlateau reducing learning rate to 2.8242954138314303e-16.\n",
            "5/5 [==============================] - 1s 188ms/step - loss: 597315840.0000 - lr: 9.4143e-16\n",
            "Epoch 74/100\n",
            "5/5 [==============================] - ETA: 0s - loss: 597315840.0000WARNING:tensorflow:Can save best model only with val_loss available, skipping.\n",
            "5/5 [==============================] - 1s 191ms/step - loss: 597315840.0000 - lr: 2.8243e-16\n",
            "Epoch 75/100\n",
            "5/5 [==============================] - ETA: 0s - loss: 597315904.0000WARNING:tensorflow:Can save best model only with val_loss available, skipping.\n",
            "5/5 [==============================] - 1s 188ms/step - loss: 597315904.0000 - lr: 2.8243e-16\n",
            "Epoch 76/100\n",
            "5/5 [==============================] - ETA: 0s - loss: 597315712.0000WARNING:tensorflow:Can save best model only with val_loss available, skipping.\n",
            "\n",
            "Epoch 76: ReduceLROnPlateau reducing learning rate to 8.472885923856935e-17.\n",
            "5/5 [==============================] - 1s 190ms/step - loss: 597315712.0000 - lr: 2.8243e-16\n",
            "Epoch 77/100\n",
            "5/5 [==============================] - ETA: 0s - loss: 597315904.0000WARNING:tensorflow:Can save best model only with val_loss available, skipping.\n",
            "5/5 [==============================] - 1s 198ms/step - loss: 597315904.0000 - lr: 8.4729e-17\n",
            "Epoch 78/100\n",
            "5/5 [==============================] - ETA: 0s - loss: 597315840.0000WARNING:tensorflow:Can save best model only with val_loss available, skipping.\n",
            "5/5 [==============================] - 1s 189ms/step - loss: 597315840.0000 - lr: 8.4729e-17\n",
            "Epoch 79/100\n",
            "5/5 [==============================] - ETA: 0s - loss: 597315840.0000WARNING:tensorflow:Can save best model only with val_loss available, skipping.\n",
            "\n",
            "Epoch 79: ReduceLROnPlateau reducing learning rate to 2.541865737452411e-17.\n",
            "5/5 [==============================] - 1s 187ms/step - loss: 597315840.0000 - lr: 8.4729e-17\n",
            "Epoch 80/100\n",
            "5/5 [==============================] - ETA: 0s - loss: 597315776.0000WARNING:tensorflow:Can save best model only with val_loss available, skipping.\n",
            "5/5 [==============================] - 1s 186ms/step - loss: 597315776.0000 - lr: 2.5419e-17\n",
            "Epoch 81/100\n",
            "5/5 [==============================] - ETA: 0s - loss: 597315840.0000WARNING:tensorflow:Can save best model only with val_loss available, skipping.\n",
            "5/5 [==============================] - 1s 188ms/step - loss: 597315840.0000 - lr: 2.5419e-17\n",
            "Epoch 82/100\n",
            "5/5 [==============================] - ETA: 0s - loss: 597315840.0000WARNING:tensorflow:Can save best model only with val_loss available, skipping.\n",
            "\n",
            "Epoch 82: ReduceLROnPlateau reducing learning rate to 7.62559741088058e-18.\n",
            "5/5 [==============================] - 1s 189ms/step - loss: 597315840.0000 - lr: 2.5419e-17\n",
            "Epoch 83/100\n",
            "5/5 [==============================] - ETA: 0s - loss: 597315712.0000WARNING:tensorflow:Can save best model only with val_loss available, skipping.\n",
            "5/5 [==============================] - 1s 193ms/step - loss: 597315712.0000 - lr: 7.6256e-18\n",
            "Epoch 84/100\n",
            "5/5 [==============================] - ETA: 0s - loss: 597315904.0000WARNING:tensorflow:Can save best model only with val_loss available, skipping.\n",
            "5/5 [==============================] - 1s 192ms/step - loss: 597315904.0000 - lr: 7.6256e-18\n",
            "Epoch 85/100\n",
            "5/5 [==============================] - ETA: 0s - loss: 597315904.0000WARNING:tensorflow:Can save best model only with val_loss available, skipping.\n",
            "\n",
            "Epoch 85: ReduceLROnPlateau reducing learning rate to 2.2876793225258477e-18.\n",
            "5/5 [==============================] - 1s 189ms/step - loss: 597315904.0000 - lr: 7.6256e-18\n",
            "Epoch 86/100\n",
            "5/5 [==============================] - ETA: 0s - loss: 597315712.0000WARNING:tensorflow:Can save best model only with val_loss available, skipping.\n",
            "5/5 [==============================] - 1s 189ms/step - loss: 597315712.0000 - lr: 2.2877e-18\n",
            "Epoch 87/100\n",
            "5/5 [==============================] - ETA: 0s - loss: 597315904.0000WARNING:tensorflow:Can save best model only with val_loss available, skipping.\n",
            "5/5 [==============================] - 1s 191ms/step - loss: 597315904.0000 - lr: 2.2877e-18\n",
            "Epoch 88/100\n",
            "5/5 [==============================] - ETA: 0s - loss: 597315840.0000WARNING:tensorflow:Can save best model only with val_loss available, skipping.\n",
            "\n",
            "Epoch 88: ReduceLROnPlateau reducing learning rate to 6.863037719423359e-19.\n",
            "5/5 [==============================] - 1s 190ms/step - loss: 597315840.0000 - lr: 2.2877e-18\n",
            "Epoch 89/100\n",
            "5/5 [==============================] - ETA: 0s - loss: 597316032.0000WARNING:tensorflow:Can save best model only with val_loss available, skipping.\n",
            "5/5 [==============================] - 1s 181ms/step - loss: 597316032.0000 - lr: 6.8630e-19\n",
            "Epoch 90/100\n",
            "5/5 [==============================] - ETA: 0s - loss: 597315904.0000WARNING:tensorflow:Can save best model only with val_loss available, skipping.\n",
            "5/5 [==============================] - 1s 183ms/step - loss: 597315904.0000 - lr: 6.8630e-19\n",
            "Epoch 91/100\n",
            "5/5 [==============================] - ETA: 0s - loss: 597315776.0000WARNING:tensorflow:Can save best model only with val_loss available, skipping.\n",
            "\n",
            "Epoch 91: ReduceLROnPlateau reducing learning rate to 2.0589113778655536e-19.\n",
            "5/5 [==============================] - 1s 184ms/step - loss: 597315776.0000 - lr: 6.8630e-19\n",
            "Epoch 92/100\n",
            "5/5 [==============================] - ETA: 0s - loss: 597315904.0000WARNING:tensorflow:Can save best model only with val_loss available, skipping.\n",
            "5/5 [==============================] - 1s 187ms/step - loss: 597315904.0000 - lr: 2.0589e-19\n",
            "Epoch 93/100\n",
            "5/5 [==============================] - ETA: 0s - loss: 597315904.0000WARNING:tensorflow:Can save best model only with val_loss available, skipping.\n",
            "5/5 [==============================] - 1s 189ms/step - loss: 597315904.0000 - lr: 2.0589e-19\n",
            "Epoch 94/100\n",
            "5/5 [==============================] - ETA: 0s - loss: 597315904.0000WARNING:tensorflow:Can save best model only with val_loss available, skipping.\n",
            "\n",
            "Epoch 94: ReduceLROnPlateau reducing learning rate to 6.176734056048479e-20.\n",
            "5/5 [==============================] - 1s 188ms/step - loss: 597315904.0000 - lr: 2.0589e-19\n",
            "Epoch 95/100\n",
            "5/5 [==============================] - ETA: 0s - loss: 597315904.0000WARNING:tensorflow:Can save best model only with val_loss available, skipping.\n",
            "5/5 [==============================] - 1s 193ms/step - loss: 597315904.0000 - lr: 6.1767e-20\n",
            "Epoch 96/100\n",
            "5/5 [==============================] - ETA: 0s - loss: 597315840.0000WARNING:tensorflow:Can save best model only with val_loss available, skipping.\n",
            "5/5 [==============================] - 1s 195ms/step - loss: 597315840.0000 - lr: 6.1767e-20\n",
            "Epoch 97/100\n",
            "5/5 [==============================] - ETA: 0s - loss: 597315840.0000WARNING:tensorflow:Can save best model only with val_loss available, skipping.\n",
            "\n",
            "Epoch 97: ReduceLROnPlateau reducing learning rate to 1.8530202168145436e-20.\n",
            "5/5 [==============================] - 1s 194ms/step - loss: 597315840.0000 - lr: 6.1767e-20\n",
            "Epoch 98/100\n",
            "5/5 [==============================] - ETA: 0s - loss: 597315904.0000WARNING:tensorflow:Can save best model only with val_loss available, skipping.\n",
            "5/5 [==============================] - 1s 188ms/step - loss: 597315904.0000 - lr: 1.8530e-20\n",
            "Epoch 99/100\n",
            "5/5 [==============================] - ETA: 0s - loss: 597315840.0000WARNING:tensorflow:Can save best model only with val_loss available, skipping.\n",
            "5/5 [==============================] - 1s 185ms/step - loss: 597315840.0000 - lr: 1.8530e-20\n",
            "Epoch 100/100\n",
            "5/5 [==============================] - ETA: 0s - loss: 597315840.0000WARNING:tensorflow:Can save best model only with val_loss available, skipping.\n",
            "\n",
            "Epoch 100: ReduceLROnPlateau reducing learning rate to 5.559060844314087e-21.\n",
            "5/5 [==============================] - 1s 191ms/step - loss: 597315840.0000 - lr: 1.8530e-20\n"
          ]
        },
        {
          "output_type": "execute_result",
          "data": {
            "text/plain": [
              "<keras.callbacks.History at 0x7f8f46392290>"
            ]
          },
          "metadata": {},
          "execution_count": 67
        }
      ]
    },
    {
      "cell_type": "code",
      "metadata": {
        "id": "LJT3zrvUKubV",
        "colab": {
          "base_uri": "https://localhost:8080/"
        },
        "outputId": "86835ac1-feb2-4fe5-aa88-3c1230fb11f4"
      },
      "source": [
        "# Predict\n",
        "y_hat=model.predict(X, verbose=1)\n",
        "print(y_hat)"
      ],
      "execution_count": null,
      "outputs": [
        {
          "output_type": "stream",
          "name": "stdout",
          "text": [
            "3/3 [==============================] - 1s 42ms/step\n",
            "[[  7109.144 ]\n",
            " [  7571.5854]\n",
            " [  8768.329 ]\n",
            " [  9552.569 ]\n",
            " [  7513.993 ]\n",
            " [  7275.0503]\n",
            " [  6663.262 ]\n",
            " [  6330.225 ]\n",
            " [  6085.998 ]\n",
            " [  6638.025 ]\n",
            " [  7635.116 ]\n",
            " [  6522.856 ]\n",
            " [  6389.6846]\n",
            " [  5819.3716]\n",
            " [  5648.3325]\n",
            " [  5415.4385]\n",
            " [  7111.5503]\n",
            " [  6980.001 ]\n",
            " [  6120.943 ]\n",
            " [  8229.115 ]\n",
            " [  6158.3506]\n",
            " [  5491.6255]\n",
            " [ 10080.418 ]\n",
            " [ 11728.336 ]\n",
            " [ 14302.89  ]\n",
            " [ 18329.771 ]\n",
            " [ 23332.947 ]\n",
            " [ 30628.822 ]\n",
            " [ 32013.879 ]\n",
            " [ 49690.094 ]\n",
            " [ 65579.74  ]\n",
            " [ 91551.5   ]\n",
            " [120337.625 ]\n",
            " [157945.22  ]\n",
            " [162134.75  ]\n",
            " [175035.34  ]\n",
            " [202062.77  ]\n",
            " [250918.47  ]\n",
            " [267974.53  ]\n",
            " [275891.94  ]\n",
            " [258799.08  ]\n",
            " [222233.12  ]\n",
            " [220787.2   ]\n",
            " [295053.62  ]\n",
            " [250472.39  ]\n",
            " [382686.94  ]\n",
            " [345591.75  ]\n",
            " [351764.88  ]\n",
            " [284413.16  ]\n",
            " [256827.58  ]\n",
            " [252003.4   ]\n",
            " [241081.62  ]\n",
            " [230924.8   ]\n",
            " [219561.47  ]\n",
            " [211151.23  ]\n",
            " [200088.75  ]\n",
            " [157968.2   ]\n",
            " [167736.9   ]\n",
            " [145701.36  ]\n",
            " [155217.9   ]\n",
            " [115229.695 ]\n",
            " [111577.46  ]\n",
            " [101301.97  ]\n",
            " [ 90452.05  ]\n",
            " [ 76780.21  ]\n",
            " [ 62003.117 ]]\n"
          ]
        }
      ]
    },
    {
      "cell_type": "code",
      "metadata": {
        "colab": {
          "base_uri": "https://localhost:8080/"
        },
        "id": "sQeO1zuwMYf1",
        "outputId": "9eb5289e-5e46-4a6d-c359-2517537832d2"
      },
      "source": [
        "n_steps=6\n",
        "df_pred=pd.DataFrame.from_records(y_hat, columns=['Predicted'])\n",
        "df_pred=df_pred.reset_index(drop=True)\n",
        "\n",
        "\n",
        "df_actual= pd.DataFrame(dat[n_steps:len(dat)], columns=['Actual'])\n",
        "df_actual=df_actual.reset_index(drop=True)\n",
        "print(df_actual)\n",
        "\n",
        "Date=df.iloc[n_steps:,0]\n",
        "Date=Date.reset_index(drop=True)\n",
        "\n",
        "data=pd.concat ([Date,df_actual,df_pred],axis=1)\n",
        "print(type(data))\n",
        "print(data.shape)\n",
        "print(data)"
      ],
      "execution_count": null,
      "outputs": [
        {
          "output_type": "stream",
          "name": "stdout",
          "text": [
            "    Actual\n",
            "0     8590\n",
            "1     9303\n",
            "2     8614\n",
            "3     7971\n",
            "4     7749\n",
            "..     ...\n",
            "61   84391\n",
            "62   66063\n",
            "63   71274\n",
            "64   66924\n",
            "65   58350\n",
            "\n",
            "[66 rows x 1 columns]\n",
            "<class 'pandas.core.frame.DataFrame'>\n",
            "(66, 3)\n",
            "         Date  Actual      Predicted\n",
            "0  2021-12-07    8590    7109.144043\n",
            "1  2021-12-08    9303    7571.585449\n",
            "2  2021-12-09    8614    8768.329102\n",
            "3  2021-12-10    7971    9552.569336\n",
            "4  2021-12-11    7749    7513.993164\n",
            "..        ...     ...            ...\n",
            "61 2022-02-06   84391  111577.460938\n",
            "62 2022-02-07   66063  101301.968750\n",
            "63 2022-02-08   71274   90452.046875\n",
            "64 2022-02-09   66924   76780.210938\n",
            "65 2022-02-10   58350   62003.117188\n",
            "\n",
            "[66 rows x 3 columns]\n"
          ]
        }
      ]
    },
    {
      "cell_type": "markdown",
      "source": [
        "**Evaluation Metrics for traning data set.**"
      ],
      "metadata": {
        "id": "AluM4oBz8XQ4"
      }
    },
    {
      "cell_type": "code",
      "metadata": {
        "colab": {
          "base_uri": "https://localhost:8080/"
        },
        "id": "_iTCbQS8NQC3",
        "outputId": "bbe567d5-ea2b-4765-b147-5e164080228b"
      },
      "source": [
        "from sklearn.metrics import r2_score, mean_absolute_error, mean_squared_error\n",
        "\n",
        "R2=r2_score(df_actual, df_pred)\n",
        "print('R Squared: ', R2)\n",
        "\n",
        "mae=mean_absolute_error(df_actual, df_pred)\n",
        "print('Mean Absolute Error: ', mae)\n",
        "\n",
        "mse=mean_squared_error(df_actual, df_pred)\n",
        "print('Mean Squared Error: ', mse)"
      ],
      "execution_count": null,
      "outputs": [
        {
          "output_type": "stream",
          "name": "stdout",
          "text": [
            "R Squared:  0.9538050239874543\n",
            "Mean Absolute Error:  15027.581764914772\n",
            "Mean Squared Error:  597315776.3103397\n"
          ]
        }
      ]
    },
    {
      "cell_type": "code",
      "metadata": {
        "id": "D9L9GW2JDIPC",
        "colab": {
          "base_uri": "https://localhost:8080/",
          "height": 458
        },
        "outputId": "f8c6facd-2859-4541-8f13-9de1fa6e2019"
      },
      "source": [
        "#data=data.set_index('Date')\n",
        "#print(data)\n",
        "\n",
        "fig, ax = plt.subplots(figsize=(9, 7))\n",
        "ax.plot(data.index.values, data['Actual'])\n",
        "data.Predicted.plot(ax=ax)\n",
        "ax.set(xlabel=\"Date\",\n",
        "       ylabel=\"Cofirmed cases per day\",\n",
        "       title=\"Covid19 Cases\")\n",
        "plt.legend()\n",
        "plt.show()"
      ],
      "execution_count": null,
      "outputs": [
        {
          "output_type": "display_data",
          "data": {
            "image/png": "[encoded data removed]",
            "text/plain": [
              "<Figure size 648x504 with 1 Axes>"
            ]
          },
          "metadata": {
            "needs_background": "light"
          }
        }
      ]
    },
    {
      "cell_type": "code",
      "metadata": {
        "id": "anXFxek5O4-J"
      },
      "source": [
        "import datetime\n",
        "from datetime import datetime, timedelta, date\n",
        "last_date=df.iloc[-1,0]\n",
        "\n",
        "# Future Prediction\n",
        "#print(X_input.shape)\n",
        "#print(X_input)\n",
        "\n",
        "predictions=model.predict(X,verbose=1)\n",
        "future_time_steps=15\n",
        "x1=X[-1:,:,:,:] # Last input\n",
        "x1=x1.astype('float64')\n",
        "\n",
        "p1=predictions[-1:]  # take last output\n",
        "\n",
        "for i  in range(future_time_steps):\n",
        "  \n",
        "  x2=np.array([[x1[0][0][1][0], x1[0][1][0][0], x1[0][1][1][0],x1[0][2][0][0], x1[0][2][1][0],  p1]] ,dtype=np.float)  \n",
        "  #print('X2 is', x2)\n",
        "  x3=x2.reshape((1,3,2,1))\n",
        "  \n",
        "  p2=model.predict(x3, verbose=1)\n",
        "  predictions=np.append(predictions, p2)\n",
        "  x1=x3\n",
        "  p1=p2\n",
        " \n",
        "yhat=predictions\n",
        "yhat=np.reshape(yhat, (-1,1))\n",
        "\n",
        "df_pred=pd.DataFrame.from_records(yhat, columns=['Predicted'])\n",
        "df_pred=df_pred.reset_index(drop=True)\n",
        "\n",
        "df_actual=df[n_steps:len(df)]\n",
        "df_actual=df_actual.reset_index(drop=True)"
      ],
      "execution_count": null,
      "outputs": []
    },
    {
      "cell_type": "code",
      "metadata": {
        "colab": {
          "base_uri": "https://localhost:8080/"
        },
        "id": "UmSczZj3cHFH",
        "outputId": "2cfba1ed-a8ea-458d-9377-dbc226f71e8f"
      },
      "source": [
        "Predicted_data=pd.concat ([df_actual,df_pred],axis=1)\n",
        "\n",
        "print(type(Predicted_data))\n",
        "print(Predicted_data.shape)\n",
        "print(Predicted_data)"
      ],
      "execution_count": null,
      "outputs": [
        {
          "output_type": "stream",
          "name": "stdout",
          "text": [
            "<class 'pandas.core.frame.DataFrame'>\n",
            "(81, 4)\n",
            "         Date  Confirmed  Total Confirmed     Predicted\n",
            "0  2021-12-07     8590.0       34657114.0   7109.144043\n",
            "1  2021-12-08     9303.0       34666417.0   7571.585449\n",
            "2  2021-12-09     8614.0       34675031.0   8768.329102\n",
            "3  2021-12-10     7971.0       34683002.0   9552.569336\n",
            "4  2021-12-11     7749.0       34690751.0   7513.993164\n",
            "..        ...        ...              ...           ...\n",
            "76        NaT        NaN              NaN  23243.773438\n",
            "77        NaT        NaN              NaN  19639.296875\n",
            "78        NaT        NaN              NaN  22668.574219\n",
            "79        NaT        NaN              NaN  17453.427734\n",
            "80        NaT        NaN              NaN  17343.804688\n",
            "\n",
            "[81 rows x 4 columns]\n"
          ]
        }
      ]
    },
    {
      "cell_type": "markdown",
      "source": [
        "## Step 7: Download the data\n",
        "\n",
        "Write the Predicted data as .csv file and download it  for future purpose"
      ],
      "metadata": {
        "id": "G-75lYdN8y5K"
      }
    },
    {
      "cell_type": "code",
      "metadata": {
        "colab": {
          "base_uri": "https://localhost:8080/",
          "height": 17
        },
        "id": "wsXtokjxZNk9",
        "outputId": "f3b58d3f-099a-4e27-897c-f96909397c89"
      },
      "source": [
        "from google.colab import files\n",
        "Predicted_data.to_csv('TN -COVID-19 Prediction -CNN LSTM 17Feb22.csv') \n",
        "files.download('TN -COVID-19 Prediction -CNN LSTM 17Feb22.csv')"
      ],
      "execution_count": null,
      "outputs": [
        {
          "output_type": "display_data",
          "data": {
            "application/javascript": [
              "\n",
              "    async function download(id, filename, size) {\n",
              "      if (!google.colab.kernel.accessAllowed) {\n",
              "        return;\n",
              "      }\n",
              "      const div = document.createElement('div');\n",
              "      const label = document.createElement('label');\n",
              "      label.textContent = `Downloading \"${filename}\": `;\n",
              "      div.appendChild(label);\n",
              "      const progress = document.createElement('progress');\n",
              "      progress.max = size;\n",
              "      div.appendChild(progress);\n",
              "      document.body.appendChild(div);\n",
              "\n",
              "      const buffers = [];\n",
              "      let downloaded = 0;\n",
              "\n",
              "      const channel = await google.colab.kernel.comms.open(id);\n",
              "      // Send a message to notify the kernel that we're ready.\n",
              "      channel.send({})\n",
              "\n",
              "      for await (const message of channel.messages) {\n",
              "        // Send a message to notify the kernel that we're ready.\n",
              "        channel.send({})\n",
              "        if (message.buffers) {\n",
              "          for (const buffer of message.buffers) {\n",
              "            buffers.push(buffer);\n",
              "            downloaded += buffer.byteLength;\n",
              "            progress.value = downloaded;\n",
              "          }\n",
              "        }\n",
              "      }\n",
              "      const blob = new Blob(buffers, {type: 'application/binary'});\n",
              "      const a = document.createElement('a');\n",
              "      a.href = window.URL.createObjectURL(blob);\n",
              "      a.download = filename;\n",
              "      div.appendChild(a);\n",
              "      a.click();\n",
              "      div.remove();\n",
              "    }\n",
              "  "
            ],
            "text/plain": [
              "<IPython.core.display.Javascript object>"
            ]
          },
          "metadata": {}
        },
        {
          "output_type": "display_data",
          "data": {
            "application/javascript": [
              "download(\"download_9d1ee15a-a52b-4b2c-aeb8-b4be521f0e61\", \"TN -COVID-19 Prediction -CNN LSTM 17Feb22.csv\", 3094)"
            ],
            "text/plain": [
              "<IPython.core.display.Javascript object>"
            ]
          },
          "metadata": {}
        }
      ]
    }
  ]
}